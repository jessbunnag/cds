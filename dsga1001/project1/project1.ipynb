{
 "cells": [
  {
   "cell_type": "markdown",
   "id": "d8113880",
   "metadata": {},
   "source": [
    "# Import libraries"
   ]
  },
  {
   "cell_type": "code",
   "execution_count": 403,
   "id": "c5373888",
   "metadata": {},
   "outputs": [],
   "source": [
    "import numpy as np\n",
    "from scipy import stats\n",
    "import matplotlib.pyplot as plt\n",
    "import pandas as pd"
   ]
  },
  {
   "cell_type": "code",
   "execution_count": 404,
   "id": "97d521dc",
   "metadata": {},
   "outputs": [],
   "source": [
    "# Load data\n",
    "df = pd.read_csv('movieReplicationSet.csv',skipinitialspace=True)\n",
    "\n",
    "columns = df.columns "
   ]
  },
  {
   "cell_type": "markdown",
   "id": "b6d30078",
   "metadata": {},
   "source": [
    "# Helper functions"
   ]
  },
  {
   "cell_type": "code",
   "execution_count": 405,
   "id": "e90270c5",
   "metadata": {},
   "outputs": [],
   "source": [
    "# Returns only the first 400 columns of the original data\n",
    "def getMovieDataDf(df):\n",
    "    return df.iloc[:,[i for i in range(400)]]\n",
    "\n",
    "# Takes movie title\n",
    "# Returns dataframe of specified movie\n",
    "def getMovieDataByTitle(df, title):\n",
    "    return df[title]\n",
    "\n",
    "# Takes 2 dataframes and does row-wise elimination\n",
    "# Returns 1 dataframe, each column is each dataframe\n",
    "def rowWiseElim2(df1, df2):\n",
    "    dfCombined = pd.concat([df1, df2], join = 'outer', axis = 1)\n",
    "    return dfCombined.dropna()"
   ]
  },
  {
   "cell_type": "code",
   "execution_count": 406,
   "id": "de3b1790",
   "metadata": {},
   "outputs": [],
   "source": [
    "# This function does median split based a given values in `sr`\n",
    "# and split `df` into two groups\n",
    "def medianSplitGroups(sr, df):\n",
    "    median = sr.median()\n",
    "    print(f\"median value: {median}\")\n",
    "    group1 = []\n",
    "    group2 = []\n",
    "\n",
    "    for i in range(len(sr)):\n",
    "        if sr[i] < median:\n",
    "            group1.append(sr.index[i])\n",
    "        else:\n",
    "            group2.append(sr.index[i])\n",
    "            \n",
    "    group1Df = df.loc[:, group1]\n",
    "    group2Df = df.loc[:, group2]\n",
    "            \n",
    "    # collapse the columns in each group into one column\n",
    "    return (group1Df, group2Df)"
   ]
  },
  {
   "cell_type": "code",
   "execution_count": 407,
   "id": "24770441",
   "metadata": {},
   "outputs": [],
   "source": [
    "# Initialize variables that will be used in multiple tests\n",
    "movieDf = getMovieDataDf(df)\n",
    "totalMovies = len(getMovieDataDf(df).columns)\n",
    "\n",
    "genderCol = \"Gender identity (1 = female; 2 = male; 3 = self-described)\"\n",
    "onlyChildCol = \"Are you an only child? (1: Yes; 0: No; -1: Did not respond)\"\n",
    "socialCol = \"Movies are best enjoyed alone (1: Yes; 0: No; -1: Did not respond)\""
   ]
  },
  {
   "cell_type": "markdown",
   "id": "d8ac8d7f",
   "metadata": {},
   "source": [
    "# Questions"
   ]
  },
  {
   "cell_type": "markdown",
   "id": "71703d5d",
   "metadata": {},
   "source": [
    "## 1\n",
    "Are movies that are more popular (operationalized as having more ratings) rated higher than movies that\n",
    "are less popular? "
   ]
  },
  {
   "cell_type": "code",
   "execution_count": 408,
   "id": "af60aa82",
   "metadata": {},
   "outputs": [
    {
     "name": "stdout",
     "output_type": "stream",
     "text": [
      "median value: 197.5\n"
     ]
    }
   ],
   "source": [
    "# split movies into more popular/ less popular groups\n",
    "ratings_count = movieDf.count()\n",
    "\n",
    "(lessPopular, morePopular) = medianSplitGroups(ratings_count, movieDf)"
   ]
  },
  {
   "cell_type": "code",
   "execution_count": 409,
   "id": "02151a5d",
   "metadata": {},
   "outputs": [
    {
     "data": {
      "text/plain": [
       "MannwhitneyuResult(statistic=644831.5, pvalue=1.7871975218238738e-19)"
      ]
     },
     "execution_count": 409,
     "metadata": {},
     "output_type": "execute_result"
    }
   ],
   "source": [
    "# Approach 1: find median of each user. \n",
    "# Clean data: row-wise elimination \n",
    "popRes = rowWiseElim2(lessPopular.median(axis=1), morePopular.median(axis=1))\n",
    "lessPopCleaned = popRes.iloc[:,0]\n",
    "morePopCleaned = popRes.iloc[:,1] \n",
    "stats.mannwhitneyu(morePopCleaned, lessPopCleaned, alternative='greater')"
   ]
  },
  {
   "cell_type": "markdown",
   "id": "8799b42c",
   "metadata": {},
   "source": [
    "This Approach 1 however does not exactly give us ratings that are \"representative\" of each group"
   ]
  },
  {
   "cell_type": "code",
   "execution_count": 410,
   "id": "c7883159",
   "metadata": {},
   "outputs": [
    {
     "data": {
      "text/plain": [
       "MannwhitneyuResult(statistic=33427.5, pvalue=9.929258851707232e-35)"
      ]
     },
     "execution_count": 410,
     "metadata": {},
     "output_type": "execute_result"
    }
   ],
   "source": [
    "# Approach 2: median of each movie is representative\n",
    "stats.mannwhitneyu(morePopular.median(), lessPopular.median(), alternative='greater')"
   ]
  },
  {
   "cell_type": "markdown",
   "id": "87889bda",
   "metadata": {},
   "source": [
    "Conclusion: reject null hypothesis "
   ]
  },
  {
   "cell_type": "markdown",
   "id": "c0274ded",
   "metadata": {},
   "source": [
    "## 2\n",
    "Are movies that are newer rated differently than movies that are older? [Hint: Do a median split of year of\n",
    "release to contrast movies in terms of whether they are old or new]"
   ]
  },
  {
   "cell_type": "code",
   "execution_count": 411,
   "id": "f0042af0",
   "metadata": {},
   "outputs": [
    {
     "name": "stdout",
     "output_type": "stream",
     "text": [
      "title 'Rambo: First Blood Part II' does not have year of release\n"
     ]
    }
   ],
   "source": [
    "# Get an array of all years of release\n",
    "movieTitles = movieDf.columns\n",
    "years = {}\n",
    "\n",
    "# Get rid of movies with no year of release \n",
    "for title in movieTitles: \n",
    "    try: \n",
    "        year = int(title[title.find(\"(\")+1:title.find(\")\")])\n",
    "        years[title] = year\n",
    "    except:\n",
    "        print(f\"title \\'{title}\\' does not have year of release\")\n",
    "        \n",
    "# Construct pd series out of dictionary \n",
    "yearsRelease = pd.Series(years)"
   ]
  },
  {
   "cell_type": "code",
   "execution_count": 412,
   "id": "f3ce52ff",
   "metadata": {},
   "outputs": [
    {
     "name": "stdout",
     "output_type": "stream",
     "text": [
      "median value: 1999.0\n",
      "There are 196 movies in the older group\n",
      "There are 203 movies in the newer group\n"
     ]
    }
   ],
   "source": [
    "# split movies into new / old movies\n",
    "(oldMovies, newMovies) = medianSplitGroups(yearsRelease, movieDf)\n",
    "print(f\"There are {oldMovies.shape[1]} movies in the older group\")\n",
    "print(f\"There are {newMovies.shape[1]} movies in the newer group\")"
   ]
  },
  {
   "cell_type": "code",
   "execution_count": 413,
   "id": "197b43e8",
   "metadata": {},
   "outputs": [
    {
     "data": {
      "text/plain": [
       "MannwhitneyuResult(statistic=18075.0, pvalue=0.0962215340487528)"
      ]
     },
     "execution_count": 413,
     "metadata": {},
     "output_type": "execute_result"
    }
   ],
   "source": [
    "# Find median of each movie, input into test\n",
    "stats.mannwhitneyu(oldMovies.median(), newMovies.median())"
   ]
  },
  {
   "cell_type": "markdown",
   "id": "03e5ad76",
   "metadata": {},
   "source": [
    "Conclusion: fail to reject: older and newer not different"
   ]
  },
  {
   "cell_type": "markdown",
   "id": "57beb3b5",
   "metadata": {},
   "source": [
    "## 3\n",
    "Is enjoyment of ‘Shrek (2001)’ gendered, i.e. do male and female viewers rate it differently?"
   ]
  },
  {
   "cell_type": "code",
   "execution_count": 414,
   "id": "7db66e2b",
   "metadata": {},
   "outputs": [
    {
     "data": {
      "text/plain": [
       "MannwhitneyuResult(statistic=96830.5, pvalue=0.050536625925559006)"
      ]
     },
     "execution_count": 414,
     "metadata": {},
     "output_type": "execute_result"
    }
   ],
   "source": [
    "# Get only Shrek and Gender columns\n",
    "shrekTitleCol = \"Shrek (2001)\"\n",
    "shrekAndGender = df.loc[:, [shrekTitleCol, genderCol]]\n",
    "\n",
    "# Split female and male groups\n",
    "female = shrekAndGender[shrekAndGender[genderCol] == 1.0][shrekTitleCol] # female\n",
    "male = shrekAndGender[shrekAndGender[genderCol] == 2.0][shrekTitleCol] # male\n",
    "\n",
    "# Element wise elimination\n",
    "female = female.dropna()\n",
    "male = male.dropna()\n",
    "\n",
    "stats.mannwhitneyu(female, male)"
   ]
  },
  {
   "cell_type": "markdown",
   "id": "194265b5",
   "metadata": {},
   "source": [
    "Conclusion: fail to reject null --> not gendered"
   ]
  },
  {
   "cell_type": "markdown",
   "id": "c64df7bc",
   "metadata": {},
   "source": [
    "## 4\n",
    "What proportion of movies are rated differently by male and female viewers?"
   ]
  },
  {
   "cell_type": "code",
   "execution_count": 415,
   "id": "43a40ba3",
   "metadata": {},
   "outputs": [],
   "source": [
    "# Returns movie dataframe for movie `titleCol`\n",
    "# only by male or female `genderInd`\n",
    "# 1.0 = female, 2.0 = male\n",
    "def getMovieForGender(movieAndGender, titleCol, genderInd):\n",
    "    return movieAndGender[movieAndGender[genderCol] == genderInd][titleCol].dropna()"
   ]
  },
  {
   "cell_type": "code",
   "execution_count": 416,
   "id": "b96431ca",
   "metadata": {},
   "outputs": [],
   "source": [
    "# Returns a tuple of \n",
    "# 1) boolean: if the movie `titleCol` is gendered (mwu test)\n",
    "# 2) p-value from the test\n",
    "def isGendered(movieAndGender, titleCol):\n",
    "    female = getMovieForGender(movieAndGender, titleCol, 1.0) # female\n",
    "    male = getMovieForGender(movieAndGender, titleCol, 2.0) # male\n",
    "    \n",
    "    u, p = stats.mannwhitneyu(female, male)\n",
    "    return (p < 0.005, p)"
   ]
  },
  {
   "cell_type": "code",
   "execution_count": 417,
   "id": "991e50d5",
   "metadata": {},
   "outputs": [
    {
     "name": "stdout",
     "output_type": "stream",
     "text": [
      "Django Unchained (2012), p = 0.00015542426769271815\n",
      "Alien (1979), p = 6.542170586924406e-05\n",
      "Fargo (1996), p = 0.003309364169873757\n",
      "Star Wars: Episode IV - A New Hope (1977), p = 0.0016660989681143768\n",
      "Indiana Jones and the Raiders of the Lost Ark (1981), p = 0.0013879291097348139\n",
      "The Lost World: Jurassic Park (1997), p = 0.004065865964755651\n",
      "13 Going on 30 (2004), p = 6.916495846569324e-06\n",
      "Inglorious Bastards (2009), p = 0.0016227471622817877\n",
      "Clueless (1995), p = 0.0012542980225539132\n",
      "The Exorcist (1973), p = 0.000554106476103341\n",
      "Pirates of the Caribbean: Dead Man's Chest (2006), p = 0.0018422351196893682\n",
      "Funny Girl (1968), p = 0.0026228924286384424\n",
      "The Thing (1982), p = 0.0004649694790599184\n",
      "Elf (2003), p = 0.0036194778869859507\n",
      "Andaz Apna Apna (1994), p = 0.0012642992058234505\n",
      "The Proposal (2009), p = 1.60221441833309e-07\n",
      "Girl Interrupted (1999), p = 0.001648810216538892\n",
      "Divine Secrets of the Ya-Ya Sisterhood (2002), p = 0.0005835228101848203\n",
      "Ghostbusters (2016), p = 2.3644615264753238e-05\n",
      "Cheaper by the Dozen (2003), p = 8.660131059376408e-06\n",
      "Can't Hardly Wait (1998), p = 0.0023357256284925326\n",
      "Transformers: Age of Extinction (2014), p = 0.0017729946264746106\n",
      "Room (2015), p = 0.004408123698988715\n",
      "Saving Private Ryan (1998), p = 6.232140863171599e-05\n",
      "My Big Fat Greek Wedding (2002), p = 0.0008908821515040294\n",
      "The Cabin in the Woods (2012), p = 0.00027789005554327753\n",
      "The Firm (1993), p = 0.0011327272607000096\n",
      "Die Hard (1988), p = 0.0030611761491648078\n",
      "10 Things I Hate About You (1999), p = 2.171766763667057e-05\n",
      "Uptown Girls (2003), p = 0.0004978235634382149\n",
      "Beauty and the Beauty (1991), p = 8.920451597676204e-07\n",
      "Knight and Day (2010), p = 0.0022007750744818537\n",
      "The Holiday (2006), p = 0.0021024448411620855\n",
      "Harry Potter and the Sorcerer's Stone (2001), p = 2.8997310548666247e-05\n",
      "Batman: The Dark Knight (2008), p = 1.0418207369589484e-06\n",
      "Grease (1978), p = 1.986580834170147e-06\n",
      "8 Mile (2002), p = 0.0018973554994433978\n",
      "Harry Potter and the Deathly Hallows: Part 2 (2011), p = 7.3661513293301885e-06\n",
      "Chicago (2002), p = 0.00036941055461129117\n",
      "Apocalypse Now (1979), p = 0.0005523777910428288\n",
      "The Matrix (1999), p = 3.6904067755311523e-06\n",
      "Bend it Like Beckham (2002), p = 3.207869539880227e-06\n",
      "Aladdin (1992), p = 8.361613347335769e-05\n",
      "The Wolf of Wall Street (2013), p = 5.07304747617493e-06\n",
      "Iron Man 3 (2013), p = 0.0031722368334134703\n",
      "Inception (2010), p = 0.0005606199957892368\n",
      "Gladiator (2000), p = 1.934076829363663e-05\n",
      "Harry Potter and the Goblet of Fire (2005), p = 1.1239457461384792e-06\n",
      "Jaws (1975), p = 0.0009725905435662186\n",
      "Harry Potter and the Chamber of Secrets (2002), p = 3.930701332791921e-07\n",
      "\n",
      "num of gendered movies: 50\n",
      "proportion of gendered movies: 0.125\n"
     ]
    }
   ],
   "source": [
    "# Count the number of gendered movies and print\n",
    "isGenderedCount = 0\n",
    "for title in movieTitles:\n",
    "    movieAndGender = df.loc[:, [title, genderCol]]\n",
    "    isGendered_ = isGendered(movieAndGender, title)\n",
    "    if isGendered_[0]:\n",
    "        isGenderedCount += 1\n",
    "        print(f\"{title}, p = {isGendered_[1]}\")\n",
    "        \n",
    "        \n",
    "genderedProportion = isGenderedCount / float(totalMovies)\n",
    "\n",
    "print()\n",
    "print(f\"num of gendered movies: {isGenderedCount}\")\n",
    "print(f\"proportion of gendered movies: {genderedProportion}\")"
   ]
  },
  {
   "cell_type": "markdown",
   "id": "546a7b96",
   "metadata": {},
   "source": [
    "## 5\n",
    "Do people who are only children enjoy ‘The Lion King (1994)’ more than people with siblings?"
   ]
  },
  {
   "cell_type": "code",
   "execution_count": 418,
   "id": "5e2c6b82",
   "metadata": {},
   "outputs": [
    {
     "data": {
      "text/plain": [
       "MannwhitneyuResult(statistic=52929.0, pvalue=0.978419092554931)"
      ]
     },
     "execution_count": 418,
     "metadata": {},
     "output_type": "execute_result"
    }
   ],
   "source": [
    "# Get only the Lion King and Only Child column \n",
    "lionKingCol = \"The Lion King (1994)\"\n",
    "lkAndChild = df.loc[:, [lionKingCol, onlyChildCol]]\n",
    "\n",
    "# Split data into only child / has siblings\n",
    "onlyChild = lkAndChild[lkAndChild[onlyChildCol] == 1.0][lionKingCol]\n",
    "notOnlyChild = lkAndChild[lkAndChild[onlyChildCol] == 0.0][lionKingCol] # has siblings\n",
    "\n",
    "# Element wise elimination\n",
    "onlyChild = onlyChild.dropna()\n",
    "notOnlyChild = notOnlyChild.dropna()\n",
    "\n",
    "stats.mannwhitneyu(onlyChild, notOnlyChild, alternative=\"greater\")"
   ]
  },
  {
   "cell_type": "markdown",
   "id": "0e7f87df",
   "metadata": {},
   "source": [
    "Conclusion: fail to reject null --> not greater"
   ]
  },
  {
   "cell_type": "markdown",
   "id": "3b98b020",
   "metadata": {},
   "source": [
    "## 6\n",
    "What proportion of movies exhibit an “only child effect”, i.e. are rated different by viewers with siblings\n",
    "vs. those without?"
   ]
  },
  {
   "cell_type": "code",
   "execution_count": 419,
   "id": "f917b0df",
   "metadata": {},
   "outputs": [],
   "source": [
    "# Returns a movie dataframe by a specific group\n",
    "# `groupCol` the column to be split on\n",
    "# `groupInd` the group to be returned\n",
    "def getMovieForGroup(movieDf, titleCol, groupCol, groupInd):\n",
    "    return movieDf[movieDf[groupCol] == groupInd][titleCol].dropna()"
   ]
  },
  {
   "cell_type": "code",
   "execution_count": 420,
   "id": "a58c2bc3",
   "metadata": {},
   "outputs": [],
   "source": [
    "# Returns a tuple of \n",
    "# 1) whether specified groups `groupVal1` and `groupVal2` \n",
    "# are significantly different by mwu test\n",
    "# 2) the p-value of the test\n",
    "\n",
    "def isDifferent(movieDf, titleCol, groupCol, groupVal1, groupVal2):\n",
    "    group1 = getMovieForGroup(movieDf, titleCol, groupCol, groupVal1) \n",
    "    group2 = getMovieForGroup(movieDf, titleCol, groupCol, groupVal2) \n",
    "    \n",
    "    u, p = stats.mannwhitneyu(group1, group2)\n",
    "    return (p < 0.005, p)"
   ]
  },
  {
   "cell_type": "code",
   "execution_count": 421,
   "id": "5f9b4ac6",
   "metadata": {},
   "outputs": [
    {
     "name": "stdout",
     "output_type": "stream",
     "text": [
      "Billy Madison (1995), p = 0.0005383987317092497\n",
      "The Blue Lagoon (1980), p = 0.0021346953003846527\n",
      "Happy Gilmore (1996), p = 0.0010748032713519967\n",
      "American Pie (1999), p = 0.00416798443480679\n",
      "Star Wars: Episode VI - The Return of the Jedi (1983), p = 0.0033458769641976993\n",
      "FeardotCom (2002), p = 0.004603506277083965\n",
      "Captain America: Civil War (2016), p = 0.0037359441415383094\n",
      "\n",
      "num of only child effect movies: 7\n",
      "proportion of only child effect movies: 0.0175\n"
     ]
    }
   ],
   "source": [
    "# Count the number of only child effect movies and print\n",
    "isDifferentForOnlyChildCount = 0\n",
    "for title in movieTitles:\n",
    "    movieAndOnlyChild = df.loc[:, [title, onlyChildCol]]\n",
    "    isDifferentOnlyChild_ = isDifferent(movieAndOnlyChild, title, onlyChildCol, 1.0, 0.0)\n",
    "    if isDifferentOnlyChild_[0]:\n",
    "        isDifferentForOnlyChildCount += 1\n",
    "        print(f\"{title}, p = {isDifferentOnlyChild_[1]}\")\n",
    "        \n",
    "onlyChildProportion = isDifferentForOnlyChildCount / float(totalMovies)\n",
    "\n",
    "print()\n",
    "print(f\"num of only child effect movies: {isDifferentForOnlyChildCount}\")\n",
    "print(f\"proportion of only child effect movies: {onlyChildProportion}\")"
   ]
  },
  {
   "cell_type": "markdown",
   "id": "ec38c380",
   "metadata": {},
   "source": [
    "## 7\n",
    "Do people who like to watch movies socially enjoy ‘The Wolf of Wall Street (2013)’ more than those who\n",
    "prefer to watch them alone?"
   ]
  },
  {
   "cell_type": "code",
   "execution_count": 422,
   "id": "ea47b526",
   "metadata": {},
   "outputs": [
    {
     "data": {
      "text/plain": [
       "MannwhitneyuResult(statistic=49303.5, pvalue=0.9436657996253056)"
      ]
     },
     "execution_count": 422,
     "metadata": {},
     "output_type": "execute_result"
    }
   ],
   "source": [
    "# Get WoWS movie and social columns only \n",
    "wolfCol = \"The Wolf of Wall Street (2013)\"\n",
    "wolfAndSocial = df.loc[:, [wolfCol, socialCol]]\n",
    "\n",
    "# Split data into social viewers and viewers who like watching alone\n",
    "social = wolfAndSocial[wolfAndSocial[socialCol] == 0.0][wolfCol]\n",
    "alone = wolfAndSocial[wolfAndSocial[socialCol] == 1.0][wolfCol] \n",
    "\n",
    "# Element wise elimination\n",
    "social = social.dropna()\n",
    "alone = alone.dropna()\n",
    "\n",
    "stats.mannwhitneyu(social, alone, alternative=\"greater\")"
   ]
  },
  {
   "cell_type": "markdown",
   "id": "2f770bef",
   "metadata": {},
   "source": [
    "Conclusion: fail to reject null"
   ]
  },
  {
   "cell_type": "markdown",
   "id": "23d0f9b2",
   "metadata": {},
   "source": [
    "## 8\n",
    "What proportion of movies exhibit such a “social watching” effect?"
   ]
  },
  {
   "cell_type": "code",
   "execution_count": 423,
   "id": "ecde1803",
   "metadata": {},
   "outputs": [
    {
     "name": "stdout",
     "output_type": "stream",
     "text": [
      "The Silence of the Lambs (1991), p = 0.0005543299564219372\n",
      "North (1994), p = 0.0046956853561537105\n",
      "Inglorious Bastards (2009), p = 0.004998203056515189\n",
      "Shrek 2 (2004), p = 0.00027961675102454795\n",
      "The Avengers (2012), p = 0.001997878186385244\n",
      "Spider-Man (2002), p = 0.002359069763461437\n",
      "Donnie Darko (2001), p = 0.0001984126007752669\n",
      "Apocalypse Now (1979), p = 0.0037307199889004597\n",
      "The Transporter (2002), p = 0.004666380458592908\n",
      "Captain America: Civil War (2016), p = 0.0009502320574457831\n",
      "\n",
      "num of only child effect movies: 10\n",
      "proportion of only child effect movies: 0.025\n"
     ]
    }
   ],
   "source": [
    "# Use the previous helper functions,\n",
    "# Count the number of social watching movies\n",
    "isDifferentForSocial = 0\n",
    "for title in movieTitles:\n",
    "    movieAndSocial = df.loc[:, [title, socialCol]]\n",
    "    isDifferentSocial_ = isDifferent(movieAndSocial, title, socialCol, 0.0, 1.0)\n",
    "    if isDifferentSocial_[0]:\n",
    "        isDifferentForSocial += 1\n",
    "        print(f\"{title}, p = {isDifferentSocial_[1]}\")\n",
    "        \n",
    "socialProportion = isDifferentForSocial / float(totalMovies)\n",
    "\n",
    "print()\n",
    "print(f\"num of only child effect movies: {isDifferentForSocial}\")\n",
    "print(f\"proportion of only child effect movies: {socialProportion}\")"
   ]
  },
  {
   "cell_type": "markdown",
   "id": "ae4e3dcc",
   "metadata": {},
   "source": [
    "## 9\n",
    "Is the ratings distribution of ‘Home Alone (1990)’ different than that of ‘Finding Nemo (2003)’?"
   ]
  },
  {
   "cell_type": "code",
   "execution_count": 424,
   "id": "83515301",
   "metadata": {},
   "outputs": [
    {
     "data": {
      "text/plain": [
       "KstestResult(statistic=0.15269080020897632, pvalue=6.379381467525036e-10)"
      ]
     },
     "execution_count": 424,
     "metadata": {},
     "output_type": "execute_result"
    }
   ],
   "source": [
    "# Get the two movies' dataframes\n",
    "homeAlone = df['Home Alone (1990)']\n",
    "nemo = df['Finding Nemo (2003)']\n",
    "\n",
    "# Element wise elimination\n",
    "homeAlone = homeAlone.dropna()\n",
    "nemo = nemo.dropna()\n",
    "\n",
    "stats.kstest(homeAlone, nemo)"
   ]
  },
  {
   "cell_type": "markdown",
   "id": "2d2a8969",
   "metadata": {},
   "source": [
    "Conclusion: reject the null --> is different"
   ]
  },
  {
   "cell_type": "markdown",
   "id": "05dc8fbc",
   "metadata": {},
   "source": [
    "## 10\n",
    "There are ratings on movies from several franchises ([‘Star Wars’, ‘Harry Potter’, ‘The Matrix’, ‘Indiana\n",
    "Jones’, ‘Jurassic Park’, ‘Pirates of the Caribbean’, ‘Toy Story’, ‘Batman’]) in this dataset. How many of these\n",
    "are of inconsistent quality, as experienced by viewers? [Hint: You can use the keywords in quotation marks\n",
    "featured in this question to identify the movies that are part of each franchise]"
   ]
  },
  {
   "cell_type": "code",
   "execution_count": 425,
   "id": "f169254e",
   "metadata": {},
   "outputs": [
    {
     "name": "stdout",
     "output_type": "stream",
     "text": [
      "Star Wars, p = 6.940162236984522e-40\n",
      "The Matrix, p = 1.7537323830838066e-09\n",
      "Indiana Jones, p = 1.020118354785894e-11\n",
      "Jurassic Park, p = 1.8492328391686058e-11\n",
      "Toy Story, p = 7.902234665149812e-06\n",
      "Batman, p = 4.1380499020034183e-19\n",
      "\n",
      "There are 6 franchises of inconsistent quality\n"
     ]
    }
   ],
   "source": [
    "franchises = [\"Star Wars\", \"Harry Potter\", \"The Matrix\", \"Indiana Jones\", \"Jurassic Park\", \"Pirates of the Caribbean\", \"Toy Story\", \"Batman\"]\n",
    "\n",
    "countFranchise = 0\n",
    "for franchise in franchises: \n",
    "    # row-wise elimination\n",
    "    franchiseMovies = df.loc[:,df.columns.str.contains(franchise)].dropna() \n",
    "    \n",
    "    # Constuct array of dataframes to input in the test\n",
    "    movieArr = []\n",
    "    for movieTitle in franchiseMovies.columns:\n",
    "        movieArr.append(franchiseMovies[movieTitle])\n",
    "    \n",
    "    k, p = stats.kruskal(*movieArr)\n",
    "    if p < 0.005:\n",
    "        countFranchise += 1\n",
    "        print(f\"{franchise}, p = {p}\")\n",
    "\n",
    "print(f\"\\nThere are {countFranchise} franchises of inconsistent quality\") "
   ]
  },
  {
   "cell_type": "code",
   "execution_count": null,
   "id": "beb2d27e",
   "metadata": {},
   "outputs": [],
   "source": []
  }
 ],
 "metadata": {
  "kernelspec": {
   "display_name": "Python 3",
   "language": "python",
   "name": "python3"
  },
  "language_info": {
   "codemirror_mode": {
    "name": "ipython",
    "version": 3
   },
   "file_extension": ".py",
   "mimetype": "text/x-python",
   "name": "python",
   "nbconvert_exporter": "python",
   "pygments_lexer": "ipython3",
   "version": "3.8.8"
  }
 },
 "nbformat": 4,
 "nbformat_minor": 5
}
