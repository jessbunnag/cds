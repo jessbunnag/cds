{
 "cells": [
  {
   "cell_type": "markdown",
   "id": "d8113880",
   "metadata": {},
   "source": [
    "# import"
   ]
  },
  {
   "cell_type": "code",
   "execution_count": 43,
   "id": "c5373888",
   "metadata": {},
   "outputs": [],
   "source": [
    "import numpy as np\n",
    "from scipy import stats\n",
    "import matplotlib.pyplot as plt\n",
    "import pandas as pd"
   ]
  },
  {
   "cell_type": "code",
   "execution_count": 44,
   "id": "97d521dc",
   "metadata": {},
   "outputs": [
    {
     "name": "stdout",
     "output_type": "stream",
     "text": [
      "Index(['The Life of David Gale (2003)', 'Wing Commander (1999)',\n",
      "       'Django Unchained (2012)', 'Alien (1979)',\n",
      "       'Indiana Jones and the Last Crusade (1989)', 'Snatch (2000)',\n",
      "       'Rambo: First Blood Part II', 'Fargo (1996)',\n",
      "       'Let the Right One In (2008)', 'Black Swan (2010)',\n",
      "       ...\n",
      "       'When watching a movie I cheer or shout or talk or curse at the screen',\n",
      "       'When watching a movie I feel like the things on the screen are happening to me',\n",
      "       'As a movie unfolds I start to have problems keeping track of events that happened earlier',\n",
      "       'The emotions on the screen \"rub off\" on me - for instance if something sad is happening I get sad or if something frightening is happening I get scared',\n",
      "       'When watching a movie I get completely immersed in the alternative reality of the film',\n",
      "       'Movies change my position on social economic or political issues',\n",
      "       'When watching movies things get so intense that I have to stop watching',\n",
      "       'Gender identity (1 = female; 2 = male; 3 = self-described)',\n",
      "       'Are you an only child? (1: Yes; 0: No; -1: Did not respond)',\n",
      "       'Movies are best enjoyed alone (1: Yes; 0: No; -1: Did not respond)'],\n",
      "      dtype='object', length=477)\n"
     ]
    }
   ],
   "source": [
    "# 1. Load data:\n",
    "df = pd.read_csv('movieReplicationSet.csv',skipinitialspace=True)\n",
    "\n",
    "# 2. Let's get a handle on our movie titles:\n",
    "columns = df.columns \n",
    "print(columns)"
   ]
  },
  {
   "cell_type": "code",
   "execution_count": 265,
   "id": "4d7472bb",
   "metadata": {},
   "outputs": [
    {
     "data": {
      "text/html": [
       "<div>\n",
       "<style scoped>\n",
       "    .dataframe tbody tr th:only-of-type {\n",
       "        vertical-align: middle;\n",
       "    }\n",
       "\n",
       "    .dataframe tbody tr th {\n",
       "        vertical-align: top;\n",
       "    }\n",
       "\n",
       "    .dataframe thead th {\n",
       "        text-align: right;\n",
       "    }\n",
       "</style>\n",
       "<table border=\"1\" class=\"dataframe\">\n",
       "  <thead>\n",
       "    <tr style=\"text-align: right;\">\n",
       "      <th></th>\n",
       "      <th>The Life of David Gale (2003)</th>\n",
       "      <th>Wing Commander (1999)</th>\n",
       "      <th>Django Unchained (2012)</th>\n",
       "      <th>Alien (1979)</th>\n",
       "      <th>Indiana Jones and the Last Crusade (1989)</th>\n",
       "      <th>Snatch (2000)</th>\n",
       "      <th>Rambo: First Blood Part II</th>\n",
       "      <th>Fargo (1996)</th>\n",
       "      <th>Let the Right One In (2008)</th>\n",
       "      <th>Black Swan (2010)</th>\n",
       "      <th>...</th>\n",
       "      <th>When watching a movie I cheer or shout or talk or curse at the screen</th>\n",
       "      <th>When watching a movie I feel like the things on the screen are happening to me</th>\n",
       "      <th>As a movie unfolds I start to have problems keeping track of events that happened earlier</th>\n",
       "      <th>The emotions on the screen \"rub off\" on me - for instance if something sad is happening I get sad or if something frightening is happening I get scared</th>\n",
       "      <th>When watching a movie I get completely immersed in the alternative reality of the film</th>\n",
       "      <th>Movies change my position on social economic or political issues</th>\n",
       "      <th>When watching movies things get so intense that I have to stop watching</th>\n",
       "      <th>Gender identity (1 = female; 2 = male; 3 = self-described)</th>\n",
       "      <th>Are you an only child? (1: Yes; 0: No; -1: Did not respond)</th>\n",
       "      <th>Movies are best enjoyed alone (1: Yes; 0: No; -1: Did not respond)</th>\n",
       "    </tr>\n",
       "  </thead>\n",
       "  <tbody>\n",
       "    <tr>\n",
       "      <th>0</th>\n",
       "      <td>NaN</td>\n",
       "      <td>NaN</td>\n",
       "      <td>4.0</td>\n",
       "      <td>NaN</td>\n",
       "      <td>3.0</td>\n",
       "      <td>NaN</td>\n",
       "      <td>NaN</td>\n",
       "      <td>NaN</td>\n",
       "      <td>NaN</td>\n",
       "      <td>NaN</td>\n",
       "      <td>...</td>\n",
       "      <td>1.0</td>\n",
       "      <td>6.0</td>\n",
       "      <td>2.0</td>\n",
       "      <td>5.0</td>\n",
       "      <td>5.0</td>\n",
       "      <td>5.0</td>\n",
       "      <td>1.0</td>\n",
       "      <td>1.0</td>\n",
       "      <td>0</td>\n",
       "      <td>1</td>\n",
       "    </tr>\n",
       "    <tr>\n",
       "      <th>1</th>\n",
       "      <td>NaN</td>\n",
       "      <td>NaN</td>\n",
       "      <td>1.5</td>\n",
       "      <td>NaN</td>\n",
       "      <td>NaN</td>\n",
       "      <td>NaN</td>\n",
       "      <td>NaN</td>\n",
       "      <td>NaN</td>\n",
       "      <td>NaN</td>\n",
       "      <td>NaN</td>\n",
       "      <td>...</td>\n",
       "      <td>3.0</td>\n",
       "      <td>1.0</td>\n",
       "      <td>1.0</td>\n",
       "      <td>6.0</td>\n",
       "      <td>5.0</td>\n",
       "      <td>3.0</td>\n",
       "      <td>2.0</td>\n",
       "      <td>1.0</td>\n",
       "      <td>0</td>\n",
       "      <td>0</td>\n",
       "    </tr>\n",
       "    <tr>\n",
       "      <th>2</th>\n",
       "      <td>NaN</td>\n",
       "      <td>NaN</td>\n",
       "      <td>NaN</td>\n",
       "      <td>NaN</td>\n",
       "      <td>NaN</td>\n",
       "      <td>NaN</td>\n",
       "      <td>NaN</td>\n",
       "      <td>NaN</td>\n",
       "      <td>NaN</td>\n",
       "      <td>NaN</td>\n",
       "      <td>...</td>\n",
       "      <td>5.0</td>\n",
       "      <td>4.0</td>\n",
       "      <td>3.0</td>\n",
       "      <td>5.0</td>\n",
       "      <td>5.0</td>\n",
       "      <td>4.0</td>\n",
       "      <td>4.0</td>\n",
       "      <td>1.0</td>\n",
       "      <td>1</td>\n",
       "      <td>0</td>\n",
       "    </tr>\n",
       "    <tr>\n",
       "      <th>3</th>\n",
       "      <td>NaN</td>\n",
       "      <td>NaN</td>\n",
       "      <td>2.0</td>\n",
       "      <td>NaN</td>\n",
       "      <td>3.0</td>\n",
       "      <td>NaN</td>\n",
       "      <td>NaN</td>\n",
       "      <td>NaN</td>\n",
       "      <td>NaN</td>\n",
       "      <td>4.0</td>\n",
       "      <td>...</td>\n",
       "      <td>3.0</td>\n",
       "      <td>1.0</td>\n",
       "      <td>1.0</td>\n",
       "      <td>4.0</td>\n",
       "      <td>5.0</td>\n",
       "      <td>3.0</td>\n",
       "      <td>1.0</td>\n",
       "      <td>1.0</td>\n",
       "      <td>0</td>\n",
       "      <td>1</td>\n",
       "    </tr>\n",
       "    <tr>\n",
       "      <th>4</th>\n",
       "      <td>NaN</td>\n",
       "      <td>NaN</td>\n",
       "      <td>3.5</td>\n",
       "      <td>NaN</td>\n",
       "      <td>0.5</td>\n",
       "      <td>NaN</td>\n",
       "      <td>0.5</td>\n",
       "      <td>1.0</td>\n",
       "      <td>NaN</td>\n",
       "      <td>0.0</td>\n",
       "      <td>...</td>\n",
       "      <td>2.0</td>\n",
       "      <td>3.0</td>\n",
       "      <td>2.0</td>\n",
       "      <td>5.0</td>\n",
       "      <td>6.0</td>\n",
       "      <td>4.0</td>\n",
       "      <td>4.0</td>\n",
       "      <td>1.0</td>\n",
       "      <td>1</td>\n",
       "      <td>1</td>\n",
       "    </tr>\n",
       "    <tr>\n",
       "      <th>...</th>\n",
       "      <td>...</td>\n",
       "      <td>...</td>\n",
       "      <td>...</td>\n",
       "      <td>...</td>\n",
       "      <td>...</td>\n",
       "      <td>...</td>\n",
       "      <td>...</td>\n",
       "      <td>...</td>\n",
       "      <td>...</td>\n",
       "      <td>...</td>\n",
       "      <td>...</td>\n",
       "      <td>...</td>\n",
       "      <td>...</td>\n",
       "      <td>...</td>\n",
       "      <td>...</td>\n",
       "      <td>...</td>\n",
       "      <td>...</td>\n",
       "      <td>...</td>\n",
       "      <td>...</td>\n",
       "      <td>...</td>\n",
       "      <td>...</td>\n",
       "    </tr>\n",
       "    <tr>\n",
       "      <th>1092</th>\n",
       "      <td>NaN</td>\n",
       "      <td>NaN</td>\n",
       "      <td>NaN</td>\n",
       "      <td>NaN</td>\n",
       "      <td>3.5</td>\n",
       "      <td>NaN</td>\n",
       "      <td>NaN</td>\n",
       "      <td>NaN</td>\n",
       "      <td>NaN</td>\n",
       "      <td>NaN</td>\n",
       "      <td>...</td>\n",
       "      <td>3.0</td>\n",
       "      <td>4.0</td>\n",
       "      <td>3.0</td>\n",
       "      <td>5.0</td>\n",
       "      <td>5.0</td>\n",
       "      <td>4.0</td>\n",
       "      <td>4.0</td>\n",
       "      <td>1.0</td>\n",
       "      <td>0</td>\n",
       "      <td>0</td>\n",
       "    </tr>\n",
       "    <tr>\n",
       "      <th>1093</th>\n",
       "      <td>3.0</td>\n",
       "      <td>4.0</td>\n",
       "      <td>NaN</td>\n",
       "      <td>NaN</td>\n",
       "      <td>4.0</td>\n",
       "      <td>4.0</td>\n",
       "      <td>2.5</td>\n",
       "      <td>NaN</td>\n",
       "      <td>3.5</td>\n",
       "      <td>3.5</td>\n",
       "      <td>...</td>\n",
       "      <td>5.0</td>\n",
       "      <td>3.0</td>\n",
       "      <td>5.0</td>\n",
       "      <td>5.0</td>\n",
       "      <td>5.0</td>\n",
       "      <td>6.0</td>\n",
       "      <td>5.0</td>\n",
       "      <td>1.0</td>\n",
       "      <td>0</td>\n",
       "      <td>0</td>\n",
       "    </tr>\n",
       "    <tr>\n",
       "      <th>1094</th>\n",
       "      <td>NaN</td>\n",
       "      <td>NaN</td>\n",
       "      <td>NaN</td>\n",
       "      <td>NaN</td>\n",
       "      <td>NaN</td>\n",
       "      <td>NaN</td>\n",
       "      <td>NaN</td>\n",
       "      <td>3.5</td>\n",
       "      <td>NaN</td>\n",
       "      <td>NaN</td>\n",
       "      <td>...</td>\n",
       "      <td>6.0</td>\n",
       "      <td>3.0</td>\n",
       "      <td>1.0</td>\n",
       "      <td>6.0</td>\n",
       "      <td>6.0</td>\n",
       "      <td>4.0</td>\n",
       "      <td>2.0</td>\n",
       "      <td>1.0</td>\n",
       "      <td>0</td>\n",
       "      <td>0</td>\n",
       "    </tr>\n",
       "    <tr>\n",
       "      <th>1095</th>\n",
       "      <td>NaN</td>\n",
       "      <td>NaN</td>\n",
       "      <td>NaN</td>\n",
       "      <td>NaN</td>\n",
       "      <td>NaN</td>\n",
       "      <td>NaN</td>\n",
       "      <td>NaN</td>\n",
       "      <td>NaN</td>\n",
       "      <td>NaN</td>\n",
       "      <td>NaN</td>\n",
       "      <td>...</td>\n",
       "      <td>1.0</td>\n",
       "      <td>1.0</td>\n",
       "      <td>1.0</td>\n",
       "      <td>4.0</td>\n",
       "      <td>3.0</td>\n",
       "      <td>3.0</td>\n",
       "      <td>1.0</td>\n",
       "      <td>1.0</td>\n",
       "      <td>0</td>\n",
       "      <td>1</td>\n",
       "    </tr>\n",
       "    <tr>\n",
       "      <th>1096</th>\n",
       "      <td>NaN</td>\n",
       "      <td>NaN</td>\n",
       "      <td>4.0</td>\n",
       "      <td>NaN</td>\n",
       "      <td>2.5</td>\n",
       "      <td>NaN</td>\n",
       "      <td>NaN</td>\n",
       "      <td>3.0</td>\n",
       "      <td>NaN</td>\n",
       "      <td>3.5</td>\n",
       "      <td>...</td>\n",
       "      <td>3.0</td>\n",
       "      <td>4.0</td>\n",
       "      <td>1.0</td>\n",
       "      <td>4.0</td>\n",
       "      <td>4.0</td>\n",
       "      <td>4.0</td>\n",
       "      <td>1.0</td>\n",
       "      <td>1.0</td>\n",
       "      <td>0</td>\n",
       "      <td>1</td>\n",
       "    </tr>\n",
       "  </tbody>\n",
       "</table>\n",
       "<p>1097 rows × 477 columns</p>\n",
       "</div>"
      ],
      "text/plain": [
       "      The Life of David Gale (2003)  Wing Commander (1999)  \\\n",
       "0                               NaN                    NaN   \n",
       "1                               NaN                    NaN   \n",
       "2                               NaN                    NaN   \n",
       "3                               NaN                    NaN   \n",
       "4                               NaN                    NaN   \n",
       "...                             ...                    ...   \n",
       "1092                            NaN                    NaN   \n",
       "1093                            3.0                    4.0   \n",
       "1094                            NaN                    NaN   \n",
       "1095                            NaN                    NaN   \n",
       "1096                            NaN                    NaN   \n",
       "\n",
       "      Django Unchained (2012)  Alien (1979)  \\\n",
       "0                         4.0           NaN   \n",
       "1                         1.5           NaN   \n",
       "2                         NaN           NaN   \n",
       "3                         2.0           NaN   \n",
       "4                         3.5           NaN   \n",
       "...                       ...           ...   \n",
       "1092                      NaN           NaN   \n",
       "1093                      NaN           NaN   \n",
       "1094                      NaN           NaN   \n",
       "1095                      NaN           NaN   \n",
       "1096                      4.0           NaN   \n",
       "\n",
       "      Indiana Jones and the Last Crusade (1989)  Snatch (2000)  \\\n",
       "0                                           3.0            NaN   \n",
       "1                                           NaN            NaN   \n",
       "2                                           NaN            NaN   \n",
       "3                                           3.0            NaN   \n",
       "4                                           0.5            NaN   \n",
       "...                                         ...            ...   \n",
       "1092                                        3.5            NaN   \n",
       "1093                                        4.0            4.0   \n",
       "1094                                        NaN            NaN   \n",
       "1095                                        NaN            NaN   \n",
       "1096                                        2.5            NaN   \n",
       "\n",
       "      Rambo: First Blood Part II  Fargo (1996)  Let the Right One In (2008)  \\\n",
       "0                            NaN           NaN                          NaN   \n",
       "1                            NaN           NaN                          NaN   \n",
       "2                            NaN           NaN                          NaN   \n",
       "3                            NaN           NaN                          NaN   \n",
       "4                            0.5           1.0                          NaN   \n",
       "...                          ...           ...                          ...   \n",
       "1092                         NaN           NaN                          NaN   \n",
       "1093                         2.5           NaN                          3.5   \n",
       "1094                         NaN           3.5                          NaN   \n",
       "1095                         NaN           NaN                          NaN   \n",
       "1096                         NaN           3.0                          NaN   \n",
       "\n",
       "      Black Swan (2010)  ...  \\\n",
       "0                   NaN  ...   \n",
       "1                   NaN  ...   \n",
       "2                   NaN  ...   \n",
       "3                   4.0  ...   \n",
       "4                   0.0  ...   \n",
       "...                 ...  ...   \n",
       "1092                NaN  ...   \n",
       "1093                3.5  ...   \n",
       "1094                NaN  ...   \n",
       "1095                NaN  ...   \n",
       "1096                3.5  ...   \n",
       "\n",
       "      When watching a movie I cheer or shout or talk or curse at the screen  \\\n",
       "0                                                   1.0                       \n",
       "1                                                   3.0                       \n",
       "2                                                   5.0                       \n",
       "3                                                   3.0                       \n",
       "4                                                   2.0                       \n",
       "...                                                 ...                       \n",
       "1092                                                3.0                       \n",
       "1093                                                5.0                       \n",
       "1094                                                6.0                       \n",
       "1095                                                1.0                       \n",
       "1096                                                3.0                       \n",
       "\n",
       "      When watching a movie I feel like the things on the screen are happening to me  \\\n",
       "0                                                   6.0                                \n",
       "1                                                   1.0                                \n",
       "2                                                   4.0                                \n",
       "3                                                   1.0                                \n",
       "4                                                   3.0                                \n",
       "...                                                 ...                                \n",
       "1092                                                4.0                                \n",
       "1093                                                3.0                                \n",
       "1094                                                3.0                                \n",
       "1095                                                1.0                                \n",
       "1096                                                4.0                                \n",
       "\n",
       "      As a movie unfolds I start to have problems keeping track of events that happened earlier  \\\n",
       "0                                                   2.0                                           \n",
       "1                                                   1.0                                           \n",
       "2                                                   3.0                                           \n",
       "3                                                   1.0                                           \n",
       "4                                                   2.0                                           \n",
       "...                                                 ...                                           \n",
       "1092                                                3.0                                           \n",
       "1093                                                5.0                                           \n",
       "1094                                                1.0                                           \n",
       "1095                                                1.0                                           \n",
       "1096                                                1.0                                           \n",
       "\n",
       "      The emotions on the screen \"rub off\" on me - for instance if something sad is happening I get sad or if something frightening is happening I get scared  \\\n",
       "0                                                   5.0                                                                                                         \n",
       "1                                                   6.0                                                                                                         \n",
       "2                                                   5.0                                                                                                         \n",
       "3                                                   4.0                                                                                                         \n",
       "4                                                   5.0                                                                                                         \n",
       "...                                                 ...                                                                                                         \n",
       "1092                                                5.0                                                                                                         \n",
       "1093                                                5.0                                                                                                         \n",
       "1094                                                6.0                                                                                                         \n",
       "1095                                                4.0                                                                                                         \n",
       "1096                                                4.0                                                                                                         \n",
       "\n",
       "      When watching a movie I get completely immersed in the alternative reality of the film  \\\n",
       "0                                                   5.0                                        \n",
       "1                                                   5.0                                        \n",
       "2                                                   5.0                                        \n",
       "3                                                   5.0                                        \n",
       "4                                                   6.0                                        \n",
       "...                                                 ...                                        \n",
       "1092                                                5.0                                        \n",
       "1093                                                5.0                                        \n",
       "1094                                                6.0                                        \n",
       "1095                                                3.0                                        \n",
       "1096                                                4.0                                        \n",
       "\n",
       "      Movies change my position on social economic or political issues  \\\n",
       "0                                                   5.0                  \n",
       "1                                                   3.0                  \n",
       "2                                                   4.0                  \n",
       "3                                                   3.0                  \n",
       "4                                                   4.0                  \n",
       "...                                                 ...                  \n",
       "1092                                                4.0                  \n",
       "1093                                                6.0                  \n",
       "1094                                                4.0                  \n",
       "1095                                                3.0                  \n",
       "1096                                                4.0                  \n",
       "\n",
       "      When watching movies things get so intense that I have to stop watching  \\\n",
       "0                                                   1.0                         \n",
       "1                                                   2.0                         \n",
       "2                                                   4.0                         \n",
       "3                                                   1.0                         \n",
       "4                                                   4.0                         \n",
       "...                                                 ...                         \n",
       "1092                                                4.0                         \n",
       "1093                                                5.0                         \n",
       "1094                                                2.0                         \n",
       "1095                                                1.0                         \n",
       "1096                                                1.0                         \n",
       "\n",
       "      Gender identity (1 = female; 2 = male; 3 = self-described)  \\\n",
       "0                                                   1.0            \n",
       "1                                                   1.0            \n",
       "2                                                   1.0            \n",
       "3                                                   1.0            \n",
       "4                                                   1.0            \n",
       "...                                                 ...            \n",
       "1092                                                1.0            \n",
       "1093                                                1.0            \n",
       "1094                                                1.0            \n",
       "1095                                                1.0            \n",
       "1096                                                1.0            \n",
       "\n",
       "      Are you an only child? (1: Yes; 0: No; -1: Did not respond)  \\\n",
       "0                                                     0             \n",
       "1                                                     0             \n",
       "2                                                     1             \n",
       "3                                                     0             \n",
       "4                                                     1             \n",
       "...                                                 ...             \n",
       "1092                                                  0             \n",
       "1093                                                  0             \n",
       "1094                                                  0             \n",
       "1095                                                  0             \n",
       "1096                                                  0             \n",
       "\n",
       "      Movies are best enjoyed alone (1: Yes; 0: No; -1: Did not respond)  \n",
       "0                                                     1                   \n",
       "1                                                     0                   \n",
       "2                                                     0                   \n",
       "3                                                     1                   \n",
       "4                                                     1                   \n",
       "...                                                 ...                   \n",
       "1092                                                  0                   \n",
       "1093                                                  0                   \n",
       "1094                                                  0                   \n",
       "1095                                                  1                   \n",
       "1096                                                  1                   \n",
       "\n",
       "[1097 rows x 477 columns]"
      ]
     },
     "execution_count": 265,
     "metadata": {},
     "output_type": "execute_result"
    }
   ],
   "source": [
    "df"
   ]
  },
  {
   "cell_type": "markdown",
   "id": "67ab3f6c",
   "metadata": {},
   "source": [
    "# Data exploration"
   ]
  },
  {
   "cell_type": "markdown",
   "id": "ecdcca85",
   "metadata": {},
   "source": [
    "## mean and median"
   ]
  },
  {
   "cell_type": "code",
   "execution_count": 13,
   "id": "bf7436ac",
   "metadata": {},
   "outputs": [
    {
     "data": {
      "text/plain": [
       "2.151315789473684"
      ]
     },
     "execution_count": 13,
     "metadata": {},
     "output_type": "execute_result"
    }
   ],
   "source": [
    "np_arr = df['The Life of David Gale (2003)'].to_numpy()\n",
    "isFinite = np_arr[np.isfinite(np_arr)]\n",
    "np.mean(isFinite)"
   ]
  },
  {
   "cell_type": "code",
   "execution_count": 15,
   "id": "bffa7462",
   "metadata": {},
   "outputs": [
    {
     "data": {
      "text/plain": [
       "0.14904284412032817"
      ]
     },
     "execution_count": 15,
     "metadata": {},
     "output_type": "execute_result"
    }
   ],
   "source": [
    "np_arr[np.isnan(np_arr)] = 0\n",
    "np.mean(np_arr) # doesn't make sense"
   ]
  },
  {
   "cell_type": "code",
   "execution_count": 16,
   "id": "fa95079d",
   "metadata": {},
   "outputs": [
    {
     "name": "stdout",
     "output_type": "stream",
     "text": [
      "2.5\n",
      "0.0\n"
     ]
    }
   ],
   "source": [
    "# median of ALL individual rating \n",
    "print(np.median(isFinite)) # this makes more sense\n",
    "print(np.median(np_arr))"
   ]
  },
  {
   "cell_type": "code",
   "execution_count": 28,
   "id": "baae4a46",
   "metadata": {},
   "outputs": [
    {
     "data": {
      "text/plain": [
       "3.0"
      ]
     },
     "execution_count": 28,
     "metadata": {},
     "output_type": "execute_result"
    }
   ],
   "source": [
    "data = df.to_numpy()\n",
    "dataFinite = data[np.isfinite(data)]\n",
    "global_med = np.median(dataFinite)\n",
    "global_med"
   ]
  },
  {
   "cell_type": "code",
   "execution_count": 33,
   "id": "16e743b2",
   "metadata": {},
   "outputs": [
    {
     "name": "stdout",
     "output_type": "stream",
     "text": [
      "(1097, 477)\n",
      "(196764,)\n"
     ]
    }
   ],
   "source": [
    "print(data.shape)\n",
    "print(dataFinite.shape)"
   ]
  },
  {
   "cell_type": "code",
   "execution_count": 27,
   "id": "22616607",
   "metadata": {},
   "outputs": [
    {
     "name": "stdout",
     "output_type": "stream",
     "text": [
      "[0.0, 0.0, 0.0, 0.0, 0.5, 0.5, 0.5, 0.5, 0.5, 0.5, 0.5, 0.5, 1.0, 1.0, 1.0, 1.0, 1.0, 1.0, 1.0, 1.0, 1.5, 1.5, 1.5, 1.5, 1.5, 1.5, 1.5, 1.5, 1.5, 2.0, 2.0, 2.0, 2.0, 2.0, 2.0, 2.0, 2.0, 2.5, 2.5, 2.5, 2.5, 2.5, 2.5, 2.5, 2.5, 2.5, 2.5, 3.0, 3.0, 3.0, 3.0, 3.0, 3.0, 3.0, 3.0, 3.0, 3.0, 3.0, 3.0, 3.0, 3.0, 3.0, 3.5, 3.5, 3.5, 3.5, 3.5, 3.5, 3.5, 3.5, 4.0, 4.0, 4.0, 4.0, 4.0, 4.0]\n",
      "76\n",
      "[0 0 0 0 0 0 0 0 0 0 0 0 0 0 0 0 0 0 0 0 0 0 0 0 0 0 0 0 0 0 0 0 0 0 0 0 0\n",
      " 1 1 1 1 1 1 1 1 1 1 1 1 1 1 1 1 1 1 1 1 1 1 1 1 1 1 1 1 1 1 1 1 1 1 1 1 1\n",
      " 1 1]\n",
      "39\n"
     ]
    }
   ],
   "source": [
    "med = np.median(isFinite)\n",
    "print(sorted(isFinite))\n",
    "print(len(isFinite))\n",
    "print(np.where(isFinite >= med, 1, 0))\n",
    "print(sum(np.where(isFinite >= med, 1, 0)))"
   ]
  },
  {
   "cell_type": "code",
   "execution_count": 180,
   "id": "70cb8a74",
   "metadata": {},
   "outputs": [
    {
     "data": {
      "text/plain": [
       "'The Life of David Gale (2003)'"
      ]
     },
     "execution_count": 180,
     "metadata": {},
     "output_type": "execute_result"
    }
   ],
   "source": [
    "df.columns.to_list()[0]"
   ]
  },
  {
   "cell_type": "code",
   "execution_count": 179,
   "id": "5f13a0c6",
   "metadata": {},
   "outputs": [
    {
     "name": "stdout",
     "output_type": "stream",
     "text": [
      "Rambo: First Blood Part II\n"
     ]
    }
   ],
   "source": [
    "for t in df.columns.to_list():\n",
    "    if 'Rambo' in t:\n",
    "        print(t)\n",
    "        break"
   ]
  },
  {
   "cell_type": "markdown",
   "id": "b6d30078",
   "metadata": {},
   "source": [
    "# Helper functions"
   ]
  },
  {
   "cell_type": "code",
   "execution_count": 61,
   "id": "620784e1",
   "metadata": {},
   "outputs": [],
   "source": [
    "def getMovieData(df, title):\n",
    "    # return np\n",
    "    np_arr = df.loc[:,df.columns.str.contains(title)].to_numpy()\n",
    "    return np_arr.reshape((len(np_arr),))"
   ]
  },
  {
   "cell_type": "code",
   "execution_count": 148,
   "id": "8ee3236c",
   "metadata": {},
   "outputs": [],
   "source": [
    "def rowWiseElim(data1, data2):\n",
    "    data1 = data1.to_numpy()\n",
    "    data2 = data2.to_numpy()\n",
    "    temp = np.array([np.isnan(data1), np.isnan(data2)],dtype=bool)\n",
    "    temp2 = temp*1 # convert boolean to int\n",
    "    temp2 = sum(temp2) # take sum of each participant\n",
    "    \n",
    "    missingData = np.where(temp2>0) # find participants with missing data\n",
    "    data1 = np.delete(data1,missingData) # delete missing data from array\n",
    "    data2 = np.delete(data2,missingData) # delete missing data from array\n",
    "    \n",
    "    return np.transpose(np.array([data1,data2]))\n",
    "\n",
    "def rowWiseElim2(df1, df2):\n",
    "    dfCombined = pd.concat([df1, df2], join = 'outer', axis = 1)\n",
    "    return dfCombined.dropna()"
   ]
  },
  {
   "cell_type": "code",
   "execution_count": 307,
   "id": "8e2f2639",
   "metadata": {},
   "outputs": [],
   "source": [
    "def getMovieDataByTitle(df, title):\n",
    "    return df[title]"
   ]
  },
  {
   "cell_type": "code",
   "execution_count": 71,
   "id": "06f6a054",
   "metadata": {},
   "outputs": [],
   "source": [
    "def getMovieDataDf(df):\n",
    "    return df.iloc[:,[i for i in range(400)]]"
   ]
  },
  {
   "cell_type": "code",
   "execution_count": 72,
   "id": "794ca79f",
   "metadata": {},
   "outputs": [
    {
     "data": {
      "text/html": [
       "<div>\n",
       "<style scoped>\n",
       "    .dataframe tbody tr th:only-of-type {\n",
       "        vertical-align: middle;\n",
       "    }\n",
       "\n",
       "    .dataframe tbody tr th {\n",
       "        vertical-align: top;\n",
       "    }\n",
       "\n",
       "    .dataframe thead th {\n",
       "        text-align: right;\n",
       "    }\n",
       "</style>\n",
       "<table border=\"1\" class=\"dataframe\">\n",
       "  <thead>\n",
       "    <tr style=\"text-align: right;\">\n",
       "      <th></th>\n",
       "      <th>The Life of David Gale (2003)</th>\n",
       "      <th>Wing Commander (1999)</th>\n",
       "      <th>Django Unchained (2012)</th>\n",
       "      <th>Alien (1979)</th>\n",
       "      <th>Indiana Jones and the Last Crusade (1989)</th>\n",
       "      <th>Snatch (2000)</th>\n",
       "      <th>Rambo: First Blood Part II</th>\n",
       "      <th>Fargo (1996)</th>\n",
       "      <th>Let the Right One In (2008)</th>\n",
       "      <th>Black Swan (2010)</th>\n",
       "      <th>...</th>\n",
       "      <th>X-Men 2 (2003)</th>\n",
       "      <th>The Usual Suspects (1995)</th>\n",
       "      <th>The Mask (1994)</th>\n",
       "      <th>Jaws (1975)</th>\n",
       "      <th>Harry Potter and the Chamber of Secrets (2002)</th>\n",
       "      <th>Patton (1970)</th>\n",
       "      <th>Anaconda (1997)</th>\n",
       "      <th>Twister (1996)</th>\n",
       "      <th>MacArthur (1977)</th>\n",
       "      <th>Look Who's Talking (1989)</th>\n",
       "    </tr>\n",
       "  </thead>\n",
       "  <tbody>\n",
       "    <tr>\n",
       "      <th>430</th>\n",
       "      <td>0.0</td>\n",
       "      <td>0.0</td>\n",
       "      <td>4.0</td>\n",
       "      <td>0.5</td>\n",
       "      <td>0.0</td>\n",
       "      <td>0.0</td>\n",
       "      <td>0.5</td>\n",
       "      <td>0.5</td>\n",
       "      <td>0.0</td>\n",
       "      <td>3.0</td>\n",
       "      <td>...</td>\n",
       "      <td>0.0</td>\n",
       "      <td>0.0</td>\n",
       "      <td>0.0</td>\n",
       "      <td>0.5</td>\n",
       "      <td>0.0</td>\n",
       "      <td>0.0</td>\n",
       "      <td>0.5</td>\n",
       "      <td>0.0</td>\n",
       "      <td>0.0</td>\n",
       "      <td>0.0</td>\n",
       "    </tr>\n",
       "    <tr>\n",
       "      <th>999</th>\n",
       "      <td>3.0</td>\n",
       "      <td>3.0</td>\n",
       "      <td>2.5</td>\n",
       "      <td>3.0</td>\n",
       "      <td>2.5</td>\n",
       "      <td>3.0</td>\n",
       "      <td>2.5</td>\n",
       "      <td>2.5</td>\n",
       "      <td>2.5</td>\n",
       "      <td>2.5</td>\n",
       "      <td>...</td>\n",
       "      <td>3.0</td>\n",
       "      <td>3.5</td>\n",
       "      <td>3.5</td>\n",
       "      <td>3.5</td>\n",
       "      <td>3.5</td>\n",
       "      <td>3.0</td>\n",
       "      <td>3.5</td>\n",
       "      <td>3.5</td>\n",
       "      <td>3.5</td>\n",
       "      <td>3.5</td>\n",
       "    </tr>\n",
       "  </tbody>\n",
       "</table>\n",
       "<p>2 rows × 400 columns</p>\n",
       "</div>"
      ],
      "text/plain": [
       "     The Life of David Gale (2003)  Wing Commander (1999)  \\\n",
       "430                            0.0                    0.0   \n",
       "999                            3.0                    3.0   \n",
       "\n",
       "     Django Unchained (2012)  Alien (1979)  \\\n",
       "430                      4.0           0.5   \n",
       "999                      2.5           3.0   \n",
       "\n",
       "     Indiana Jones and the Last Crusade (1989)  Snatch (2000)  \\\n",
       "430                                        0.0            0.0   \n",
       "999                                        2.5            3.0   \n",
       "\n",
       "     Rambo: First Blood Part II  Fargo (1996)  Let the Right One In (2008)  \\\n",
       "430                         0.5           0.5                          0.0   \n",
       "999                         2.5           2.5                          2.5   \n",
       "\n",
       "     Black Swan (2010)  ...  X-Men 2 (2003)  The Usual Suspects (1995)  \\\n",
       "430                3.0  ...             0.0                        0.0   \n",
       "999                2.5  ...             3.0                        3.5   \n",
       "\n",
       "     The Mask (1994)  Jaws (1975)  \\\n",
       "430              0.0          0.5   \n",
       "999              3.5          3.5   \n",
       "\n",
       "     Harry Potter and the Chamber of Secrets (2002)  Patton (1970)  \\\n",
       "430                                             0.0            0.0   \n",
       "999                                             3.5            3.0   \n",
       "\n",
       "     Anaconda (1997)  Twister (1996)  MacArthur (1977)  \\\n",
       "430              0.5             0.0               0.0   \n",
       "999              3.5             3.5               3.5   \n",
       "\n",
       "     Look Who's Talking (1989)  \n",
       "430                        0.0  \n",
       "999                        3.5  \n",
       "\n",
       "[2 rows x 400 columns]"
      ]
     },
     "execution_count": 72,
     "metadata": {},
     "output_type": "execute_result"
    }
   ],
   "source": [
    "getMovieDataDf(df).dropna()"
   ]
  },
  {
   "cell_type": "code",
   "execution_count": 205,
   "id": "de3b1790",
   "metadata": {},
   "outputs": [],
   "source": [
    "def medianSplitGroups(sr, df):\n",
    "    median = sr.median()\n",
    "    print(f\"median value: {median}\")\n",
    "    group1 = []\n",
    "    group2 = []\n",
    "\n",
    "    for i in range(len(sr)):\n",
    "        if sr[i] < median:\n",
    "            group1.append(sr.index[i])\n",
    "        else:\n",
    "            group2.append(sr.index[i])\n",
    "            \n",
    "    group1Df = df.loc[:, group1]\n",
    "    group2Df = df.loc[:, group2]\n",
    "            \n",
    "    # collapse the columns in each group into one column\n",
    "    return (group1Df.median(axis=1), group2Df.median(axis=1))"
   ]
  },
  {
   "cell_type": "code",
   "execution_count": 295,
   "id": "24770441",
   "metadata": {},
   "outputs": [],
   "source": [
    "totalMovies = len(getMovieDataDf(df).columns)\n",
    "genderCol = \"Gender identity (1 = female; 2 = male; 3 = self-described)\"\n",
    "\n",
    "onlyChildCol = \"Are you an only child? (1: Yes; 0: No; -1: Did not respond)\"\n",
    "socialCol = \"Movies are best enjoyed alone (1: Yes; 0: No; -1: Did not respond)\""
   ]
  },
  {
   "cell_type": "markdown",
   "id": "d8ac8d7f",
   "metadata": {},
   "source": [
    "# Problems"
   ]
  },
  {
   "cell_type": "markdown",
   "id": "71703d5d",
   "metadata": {},
   "source": [
    "## 1\n",
    "Are movies that are more popular (operationalized as having more ratings) rated higher than movies that\n",
    "are less popular? "
   ]
  },
  {
   "cell_type": "code",
   "execution_count": 206,
   "id": "af60aa82",
   "metadata": {},
   "outputs": [
    {
     "name": "stdout",
     "output_type": "stream",
     "text": [
      "median value: 197.5\n"
     ]
    }
   ],
   "source": [
    "# split movies into more popular/ less popular groups \n",
    "movieDf = getMovieDataDf(df)\n",
    "\n",
    "ratings_count = movieDf.count()\n",
    "\n",
    "# median split, and \n",
    "(lessPopular, morePopular) = medianSplitGroups(ratings_count, movieDf)"
   ]
  },
  {
   "cell_type": "code",
   "execution_count": 130,
   "id": "f5dd1ece",
   "metadata": {},
   "outputs": [
    {
     "data": {
      "text/plain": [
       "0       4.00\n",
       "1        NaN\n",
       "2       2.50\n",
       "3       3.00\n",
       "4       2.50\n",
       "        ... \n",
       "1092    3.00\n",
       "1093    3.50\n",
       "1094    2.75\n",
       "1095    3.50\n",
       "1096    3.50\n",
       "Length: 1097, dtype: float64"
      ]
     },
     "execution_count": 130,
     "metadata": {},
     "output_type": "execute_result"
    }
   ],
   "source": [
    "lessPopular"
   ]
  },
  {
   "cell_type": "code",
   "execution_count": 209,
   "id": "5d45d313",
   "metadata": {},
   "outputs": [],
   "source": [
    "# clean data: row-wise elimination\n",
    "res2 = rowWiseElim2(lessPopular, morePopular)\n",
    "lessPopularCleaned = res2.iloc[:,0]\n",
    "morePopularCleaned = res2.iloc[:,1]"
   ]
  },
  {
   "cell_type": "code",
   "execution_count": 210,
   "id": "fe63118b",
   "metadata": {},
   "outputs": [
    {
     "data": {
      "text/plain": [
       "MannwhitneyuResult(statistic=644831.5, pvalue=1.7871975218238738e-19)"
      ]
     },
     "execution_count": 210,
     "metadata": {},
     "output_type": "execute_result"
    }
   ],
   "source": [
    "stats.mannwhitneyu(morePopularCleaned, lessPopularCleaned, alternative='greater')"
   ]
  },
  {
   "cell_type": "code",
   "execution_count": null,
   "id": "d44b72e0",
   "metadata": {},
   "outputs": [],
   "source": [
    "# reject null "
   ]
  },
  {
   "cell_type": "markdown",
   "id": "c0274ded",
   "metadata": {},
   "source": [
    "## 2\n",
    "Are movies that are newer rated differently than movies that are older? [Hint: Do a median split of year of\n",
    "release to contrast movies in terms of whether they are old or new]"
   ]
  },
  {
   "cell_type": "code",
   "execution_count": 191,
   "id": "f0042af0",
   "metadata": {},
   "outputs": [
    {
     "name": "stdout",
     "output_type": "stream",
     "text": [
      "title 'Rambo: First Blood Part II' did not have year of release\n",
      "399\n"
     ]
    }
   ],
   "source": [
    "# split movies into newer / older groups \n",
    "movieTitles = movieDf.columns\n",
    "years = {}\n",
    "\n",
    "# get rid of movies with no year of release \n",
    "for title in movieTitles: \n",
    "    try: \n",
    "        year = int(title[title.find(\"(\")+1:title.find(\")\")])\n",
    "        years[title] = year\n",
    "    except:\n",
    "        print(f\"title \\'{title}\\' did not have year of release\")\n",
    "        \n",
    "print(len(years))\n",
    "\n",
    "# make pd series out of dictionary \n",
    "yearsRelease = pd.Series(years)"
   ]
  },
  {
   "cell_type": "code",
   "execution_count": 211,
   "id": "f3ce52ff",
   "metadata": {},
   "outputs": [
    {
     "name": "stdout",
     "output_type": "stream",
     "text": [
      "median value: 1999.0\n",
      "(1097,)\n",
      "(1097,)\n"
     ]
    }
   ],
   "source": [
    "# split movies\n",
    "(oldMovies, newMovies) = medianSplitGroups(yearsRelease, movieDf)\n",
    "print(oldMovies.shape)\n",
    "print(newMovies.shape)"
   ]
  },
  {
   "cell_type": "code",
   "execution_count": 212,
   "id": "f7577f9d",
   "metadata": {},
   "outputs": [
    {
     "data": {
      "text/plain": [
       "0       3.50\n",
       "1       2.75\n",
       "2       3.25\n",
       "3       3.00\n",
       "4       2.00\n",
       "        ... \n",
       "1092    3.00\n",
       "1093    4.00\n",
       "1094    3.00\n",
       "1095    4.00\n",
       "1096    3.00\n",
       "Length: 1097, dtype: float64"
      ]
     },
     "execution_count": 212,
     "metadata": {},
     "output_type": "execute_result"
    }
   ],
   "source": [
    "oldMovies"
   ]
  },
  {
   "cell_type": "code",
   "execution_count": 213,
   "id": "1ff39901",
   "metadata": {},
   "outputs": [],
   "source": [
    "# clean data: row-wise elimination TODO: check element-wise \n",
    "oldNewRes = rowWiseElim2(oldMovies, newMovies)\n",
    "oldCleaned = oldNewRes.iloc[:,0]\n",
    "newCleaned = oldNewRes.iloc[:,1] "
   ]
  },
  {
   "cell_type": "code",
   "execution_count": 214,
   "id": "b1f23b50",
   "metadata": {},
   "outputs": [
    {
     "data": {
      "text/plain": [
       "MannwhitneyuResult(statistic=603001.0, pvalue=0.7485391589741864)"
      ]
     },
     "execution_count": 214,
     "metadata": {},
     "output_type": "execute_result"
    }
   ],
   "source": [
    "stats.mannwhitneyu(oldCleaned, newCleaned)"
   ]
  },
  {
   "cell_type": "markdown",
   "id": "03e5ad76",
   "metadata": {},
   "source": [
    "fail to reject: older and newer not different"
   ]
  },
  {
   "cell_type": "markdown",
   "id": "57beb3b5",
   "metadata": {},
   "source": [
    "## 3\n",
    "Is enjoyment of ‘Shrek (2001)’ gendered, i.e. do male and female viewers rate it differently?\n",
    "(element wise??) "
   ]
  },
  {
   "cell_type": "code",
   "execution_count": 241,
   "id": "7db66e2b",
   "metadata": {},
   "outputs": [
    {
     "data": {
      "text/html": [
       "<div>\n",
       "<style scoped>\n",
       "    .dataframe tbody tr th:only-of-type {\n",
       "        vertical-align: middle;\n",
       "    }\n",
       "\n",
       "    .dataframe tbody tr th {\n",
       "        vertical-align: top;\n",
       "    }\n",
       "\n",
       "    .dataframe thead th {\n",
       "        text-align: right;\n",
       "    }\n",
       "</style>\n",
       "<table border=\"1\" class=\"dataframe\">\n",
       "  <thead>\n",
       "    <tr style=\"text-align: right;\">\n",
       "      <th></th>\n",
       "      <th>Shrek (2001)</th>\n",
       "      <th>Gender identity (1 = female; 2 = male; 3 = self-described)</th>\n",
       "    </tr>\n",
       "  </thead>\n",
       "  <tbody>\n",
       "    <tr>\n",
       "      <th>0</th>\n",
       "      <td>3.0</td>\n",
       "      <td>1.0</td>\n",
       "    </tr>\n",
       "    <tr>\n",
       "      <th>1</th>\n",
       "      <td>3.0</td>\n",
       "      <td>1.0</td>\n",
       "    </tr>\n",
       "    <tr>\n",
       "      <th>2</th>\n",
       "      <td>3.5</td>\n",
       "      <td>1.0</td>\n",
       "    </tr>\n",
       "    <tr>\n",
       "      <th>3</th>\n",
       "      <td>0.5</td>\n",
       "      <td>1.0</td>\n",
       "    </tr>\n",
       "    <tr>\n",
       "      <th>4</th>\n",
       "      <td>3.0</td>\n",
       "      <td>1.0</td>\n",
       "    </tr>\n",
       "    <tr>\n",
       "      <th>...</th>\n",
       "      <td>...</td>\n",
       "      <td>...</td>\n",
       "    </tr>\n",
       "    <tr>\n",
       "      <th>1092</th>\n",
       "      <td>3.0</td>\n",
       "      <td>1.0</td>\n",
       "    </tr>\n",
       "    <tr>\n",
       "      <th>1093</th>\n",
       "      <td>4.0</td>\n",
       "      <td>1.0</td>\n",
       "    </tr>\n",
       "    <tr>\n",
       "      <th>1094</th>\n",
       "      <td>3.5</td>\n",
       "      <td>1.0</td>\n",
       "    </tr>\n",
       "    <tr>\n",
       "      <th>1095</th>\n",
       "      <td>2.5</td>\n",
       "      <td>1.0</td>\n",
       "    </tr>\n",
       "    <tr>\n",
       "      <th>1096</th>\n",
       "      <td>2.0</td>\n",
       "      <td>1.0</td>\n",
       "    </tr>\n",
       "  </tbody>\n",
       "</table>\n",
       "<p>1097 rows × 2 columns</p>\n",
       "</div>"
      ],
      "text/plain": [
       "      Shrek (2001)  Gender identity (1 = female; 2 = male; 3 = self-described)\n",
       "0              3.0                                                1.0         \n",
       "1              3.0                                                1.0         \n",
       "2              3.5                                                1.0         \n",
       "3              0.5                                                1.0         \n",
       "4              3.0                                                1.0         \n",
       "...            ...                                                ...         \n",
       "1092           3.0                                                1.0         \n",
       "1093           4.0                                                1.0         \n",
       "1094           3.5                                                1.0         \n",
       "1095           2.5                                                1.0         \n",
       "1096           2.0                                                1.0         \n",
       "\n",
       "[1097 rows x 2 columns]"
      ]
     },
     "execution_count": 241,
     "metadata": {},
     "output_type": "execute_result"
    }
   ],
   "source": [
    "shrekTitleCol = \"Shrek (2001)\"\n",
    "genderCol = \"Gender identity (1 = female; 2 = male; 3 = self-described)\"\n",
    "shrekAndGender = df.loc[:, [shrekTitleCol, genderCol ]]\n",
    "shrekAndGender"
   ]
  },
  {
   "cell_type": "code",
   "execution_count": 242,
   "id": "2b05b246",
   "metadata": {},
   "outputs": [],
   "source": [
    "# get female and male \n",
    "female = shrekAndGender[shrekAndGender[genderCol] == 1.0][shrekTitleCol] # female\n",
    "male = shrekAndGender[shrekAndGender[genderCol] == 2.0][shrekTitleCol] # male"
   ]
  },
  {
   "cell_type": "code",
   "execution_count": 237,
   "id": "51bb19bf",
   "metadata": {},
   "outputs": [],
   "source": [
    "# element wise elim\n",
    "female = female.dropna()\n",
    "male = male.dropna()"
   ]
  },
  {
   "cell_type": "code",
   "execution_count": 240,
   "id": "d84b9a0e",
   "metadata": {},
   "outputs": [
    {
     "data": {
      "text/plain": [
       "MannwhitneyuResult(statistic=96830.5, pvalue=0.050536625925559006)"
      ]
     },
     "execution_count": 240,
     "metadata": {},
     "output_type": "execute_result"
    }
   ],
   "source": [
    "stats.mannwhitneyu(female, male)"
   ]
  },
  {
   "cell_type": "markdown",
   "id": "194265b5",
   "metadata": {},
   "source": [
    "fail to reject: not gendered"
   ]
  },
  {
   "cell_type": "markdown",
   "id": "c64df7bc",
   "metadata": {},
   "source": [
    "## 4\n",
    "What proportion of movies are rated differently by male and female viewers?"
   ]
  },
  {
   "cell_type": "code",
   "execution_count": 279,
   "id": "43a40ba3",
   "metadata": {},
   "outputs": [],
   "source": [
    "def getMovieForGender(movieAndGender, titleCol, genderInd):\n",
    "    # 1.0 = female, 2.0 = male\n",
    "    return movieAndGender[movieAndGender[genderCol] == genderInd][titleCol].dropna()"
   ]
  },
  {
   "cell_type": "code",
   "execution_count": 280,
   "id": "b96431ca",
   "metadata": {},
   "outputs": [],
   "source": [
    "def isGendered(movieAndGender, titleCol):\n",
    "    female = getMovieForGender(movieAndGender, titleCol, 1.0) # female\n",
    "    male = getMovieForGender(movieAndGender, titleCol, 2.0) # male\n",
    "    \n",
    "    u, p = stats.mannwhitneyu(female, male)\n",
    "    return p < 0.005"
   ]
  },
  {
   "cell_type": "code",
   "execution_count": 281,
   "id": "991e50d5",
   "metadata": {},
   "outputs": [
    {
     "name": "stdout",
     "output_type": "stream",
     "text": [
      "num of gendered movies: 50\n",
      "proportion of gendered movies: 0.125\n"
     ]
    }
   ],
   "source": [
    "isGenderedCount = 0\n",
    "for title in movieTitles:\n",
    "    movieAndGender = df.loc[:, [title, genderCol]]\n",
    "    if isGendered(movieAndGender, title):\n",
    "        isGenderedCount += 1\n",
    "        \n",
    "genderedProportion = isGenderedCount / float(totalMovies)\n",
    "\n",
    "print(f\"num of gendered movies: {isGenderedCount}\")\n",
    "print(f\"proportion of gendered movies: {genderedProportion}\")"
   ]
  },
  {
   "cell_type": "code",
   "execution_count": null,
   "id": "d1eb7de2",
   "metadata": {},
   "outputs": [],
   "source": []
  },
  {
   "cell_type": "markdown",
   "id": "546a7b96",
   "metadata": {},
   "source": [
    "## 5\n",
    "Do people who are only children enjoy ‘The Lion King (1994)’ more than people with siblings?"
   ]
  },
  {
   "cell_type": "code",
   "execution_count": 267,
   "id": "5e2c6b82",
   "metadata": {},
   "outputs": [
    {
     "data": {
      "text/html": [
       "<div>\n",
       "<style scoped>\n",
       "    .dataframe tbody tr th:only-of-type {\n",
       "        vertical-align: middle;\n",
       "    }\n",
       "\n",
       "    .dataframe tbody tr th {\n",
       "        vertical-align: top;\n",
       "    }\n",
       "\n",
       "    .dataframe thead th {\n",
       "        text-align: right;\n",
       "    }\n",
       "</style>\n",
       "<table border=\"1\" class=\"dataframe\">\n",
       "  <thead>\n",
       "    <tr style=\"text-align: right;\">\n",
       "      <th></th>\n",
       "      <th>The Lion King (1994)</th>\n",
       "      <th>Are you an only child? (1: Yes; 0: No; -1: Did not respond)</th>\n",
       "    </tr>\n",
       "  </thead>\n",
       "  <tbody>\n",
       "    <tr>\n",
       "      <th>0</th>\n",
       "      <td>4.0</td>\n",
       "      <td>0</td>\n",
       "    </tr>\n",
       "    <tr>\n",
       "      <th>1</th>\n",
       "      <td>NaN</td>\n",
       "      <td>0</td>\n",
       "    </tr>\n",
       "    <tr>\n",
       "      <th>2</th>\n",
       "      <td>4.0</td>\n",
       "      <td>1</td>\n",
       "    </tr>\n",
       "    <tr>\n",
       "      <th>3</th>\n",
       "      <td>3.0</td>\n",
       "      <td>0</td>\n",
       "    </tr>\n",
       "    <tr>\n",
       "      <th>4</th>\n",
       "      <td>4.0</td>\n",
       "      <td>1</td>\n",
       "    </tr>\n",
       "    <tr>\n",
       "      <th>...</th>\n",
       "      <td>...</td>\n",
       "      <td>...</td>\n",
       "    </tr>\n",
       "    <tr>\n",
       "      <th>1092</th>\n",
       "      <td>3.5</td>\n",
       "      <td>0</td>\n",
       "    </tr>\n",
       "    <tr>\n",
       "      <th>1093</th>\n",
       "      <td>3.5</td>\n",
       "      <td>0</td>\n",
       "    </tr>\n",
       "    <tr>\n",
       "      <th>1094</th>\n",
       "      <td>NaN</td>\n",
       "      <td>0</td>\n",
       "    </tr>\n",
       "    <tr>\n",
       "      <th>1095</th>\n",
       "      <td>NaN</td>\n",
       "      <td>0</td>\n",
       "    </tr>\n",
       "    <tr>\n",
       "      <th>1096</th>\n",
       "      <td>4.0</td>\n",
       "      <td>0</td>\n",
       "    </tr>\n",
       "  </tbody>\n",
       "</table>\n",
       "<p>1097 rows × 2 columns</p>\n",
       "</div>"
      ],
      "text/plain": [
       "      The Lion King (1994)  \\\n",
       "0                      4.0   \n",
       "1                      NaN   \n",
       "2                      4.0   \n",
       "3                      3.0   \n",
       "4                      4.0   \n",
       "...                    ...   \n",
       "1092                   3.5   \n",
       "1093                   3.5   \n",
       "1094                   NaN   \n",
       "1095                   NaN   \n",
       "1096                   4.0   \n",
       "\n",
       "      Are you an only child? (1: Yes; 0: No; -1: Did not respond)  \n",
       "0                                                     0            \n",
       "1                                                     0            \n",
       "2                                                     1            \n",
       "3                                                     0            \n",
       "4                                                     1            \n",
       "...                                                 ...            \n",
       "1092                                                  0            \n",
       "1093                                                  0            \n",
       "1094                                                  0            \n",
       "1095                                                  0            \n",
       "1096                                                  0            \n",
       "\n",
       "[1097 rows x 2 columns]"
      ]
     },
     "execution_count": 267,
     "metadata": {},
     "output_type": "execute_result"
    }
   ],
   "source": [
    "lionKingCol = \"The Lion King (1994)\"\n",
    "lkAndChild = df.loc[:, [lionKingCol, onlyChildCol]]\n",
    "lkAndChild"
   ]
  },
  {
   "cell_type": "code",
   "execution_count": 270,
   "id": "e2ed29bb",
   "metadata": {},
   "outputs": [
    {
     "data": {
      "text/html": [
       "<div>\n",
       "<style scoped>\n",
       "    .dataframe tbody tr th:only-of-type {\n",
       "        vertical-align: middle;\n",
       "    }\n",
       "\n",
       "    .dataframe tbody tr th {\n",
       "        vertical-align: top;\n",
       "    }\n",
       "\n",
       "    .dataframe thead th {\n",
       "        text-align: right;\n",
       "    }\n",
       "</style>\n",
       "<table border=\"1\" class=\"dataframe\">\n",
       "  <thead>\n",
       "    <tr style=\"text-align: right;\">\n",
       "      <th></th>\n",
       "      <th>The Lion King (1994)</th>\n",
       "      <th>Are you an only child? (1: Yes; 0: No; -1: Did not respond)</th>\n",
       "    </tr>\n",
       "  </thead>\n",
       "  <tbody>\n",
       "    <tr>\n",
       "      <th>2</th>\n",
       "      <td>4.0</td>\n",
       "      <td>1</td>\n",
       "    </tr>\n",
       "    <tr>\n",
       "      <th>4</th>\n",
       "      <td>4.0</td>\n",
       "      <td>1</td>\n",
       "    </tr>\n",
       "    <tr>\n",
       "      <th>5</th>\n",
       "      <td>4.0</td>\n",
       "      <td>1</td>\n",
       "    </tr>\n",
       "    <tr>\n",
       "      <th>22</th>\n",
       "      <td>3.5</td>\n",
       "      <td>1</td>\n",
       "    </tr>\n",
       "    <tr>\n",
       "      <th>33</th>\n",
       "      <td>3.5</td>\n",
       "      <td>1</td>\n",
       "    </tr>\n",
       "    <tr>\n",
       "      <th>...</th>\n",
       "      <td>...</td>\n",
       "      <td>...</td>\n",
       "    </tr>\n",
       "    <tr>\n",
       "      <th>1058</th>\n",
       "      <td>3.0</td>\n",
       "      <td>1</td>\n",
       "    </tr>\n",
       "    <tr>\n",
       "      <th>1068</th>\n",
       "      <td>3.5</td>\n",
       "      <td>1</td>\n",
       "    </tr>\n",
       "    <tr>\n",
       "      <th>1075</th>\n",
       "      <td>4.0</td>\n",
       "      <td>1</td>\n",
       "    </tr>\n",
       "    <tr>\n",
       "      <th>1076</th>\n",
       "      <td>3.5</td>\n",
       "      <td>1</td>\n",
       "    </tr>\n",
       "    <tr>\n",
       "      <th>1088</th>\n",
       "      <td>3.0</td>\n",
       "      <td>1</td>\n",
       "    </tr>\n",
       "  </tbody>\n",
       "</table>\n",
       "<p>177 rows × 2 columns</p>\n",
       "</div>"
      ],
      "text/plain": [
       "      The Lion King (1994)  \\\n",
       "2                      4.0   \n",
       "4                      4.0   \n",
       "5                      4.0   \n",
       "22                     3.5   \n",
       "33                     3.5   \n",
       "...                    ...   \n",
       "1058                   3.0   \n",
       "1068                   3.5   \n",
       "1075                   4.0   \n",
       "1076                   3.5   \n",
       "1088                   3.0   \n",
       "\n",
       "      Are you an only child? (1: Yes; 0: No; -1: Did not respond)  \n",
       "2                                                     1            \n",
       "4                                                     1            \n",
       "5                                                     1            \n",
       "22                                                    1            \n",
       "33                                                    1            \n",
       "...                                                 ...            \n",
       "1058                                                  1            \n",
       "1068                                                  1            \n",
       "1075                                                  1            \n",
       "1076                                                  1            \n",
       "1088                                                  1            \n",
       "\n",
       "[177 rows x 2 columns]"
      ]
     },
     "execution_count": 270,
     "metadata": {},
     "output_type": "execute_result"
    }
   ],
   "source": [
    "lkAndChild[lkAndChild[onlyChildCol] == 1.0]"
   ]
  },
  {
   "cell_type": "code",
   "execution_count": 299,
   "id": "27090a1f",
   "metadata": {},
   "outputs": [],
   "source": [
    "# get only child\n",
    "onlyChild = lkAndChild[lkAndChild[onlyChildCol] == 1.0][lionKingCol]\n",
    "notOnlyChild = lkAndChild[lkAndChild[onlyChildCol] == 0.0][lionKingCol] # has siblings"
   ]
  },
  {
   "cell_type": "code",
   "execution_count": 300,
   "id": "e93905c5",
   "metadata": {},
   "outputs": [
    {
     "data": {
      "text/plain": [
       "2       4.0\n",
       "4       4.0\n",
       "5       4.0\n",
       "22      3.5\n",
       "33      3.5\n",
       "       ... \n",
       "1058    3.0\n",
       "1068    3.5\n",
       "1075    4.0\n",
       "1076    3.5\n",
       "1088    3.0\n",
       "Name: The Lion King (1994), Length: 177, dtype: float64"
      ]
     },
     "execution_count": 300,
     "metadata": {},
     "output_type": "execute_result"
    }
   ],
   "source": [
    "onlyChild"
   ]
  },
  {
   "cell_type": "code",
   "execution_count": 301,
   "id": "b58d93fd",
   "metadata": {},
   "outputs": [
    {
     "data": {
      "text/plain": [
       "MannwhitneyuResult(statistic=52929.0, pvalue=0.978419092554931)"
      ]
     },
     "execution_count": 301,
     "metadata": {},
     "output_type": "execute_result"
    }
   ],
   "source": [
    "# element wise elim\n",
    "onlyChild = onlyChild.dropna()\n",
    "notOnlyChild = notOnlyChild.dropna()\n",
    "\n",
    "stats.mannwhitneyu(onlyChild, notOnlyChild, alternative=\"greater\")"
   ]
  },
  {
   "cell_type": "markdown",
   "id": "0e7f87df",
   "metadata": {},
   "source": [
    "fail to reject: not greater"
   ]
  },
  {
   "cell_type": "markdown",
   "id": "3b98b020",
   "metadata": {},
   "source": [
    "## 6\n",
    "What proportion of movies exhibit an “only child effect”, i.e. are rated different by viewers with siblings\n",
    "vs. those without?"
   ]
  },
  {
   "cell_type": "code",
   "execution_count": 290,
   "id": "f917b0df",
   "metadata": {},
   "outputs": [],
   "source": [
    "def getMovieForGroup(movieDf, titleCol, groupCol, groupInd):\n",
    "    return movieDf[movieDf[groupCol] == groupInd][titleCol].dropna()"
   ]
  },
  {
   "cell_type": "code",
   "execution_count": 291,
   "id": "a58c2bc3",
   "metadata": {},
   "outputs": [],
   "source": [
    "def isDifferent(movieDf, titleCol, groupCol, groupVal1, groupVal2):\n",
    "    group1 = getMovieForGroup(movieDf, titleCol, groupCol, groupVal1) \n",
    "    group2 = getMovieForGroup(movieDf, titleCol, groupCol, groupVal2) \n",
    "    \n",
    "    u, p = stats.mannwhitneyu(group1, group2)\n",
    "    return p < 0.005"
   ]
  },
  {
   "cell_type": "code",
   "execution_count": 294,
   "id": "5f9b4ac6",
   "metadata": {},
   "outputs": [
    {
     "name": "stdout",
     "output_type": "stream",
     "text": [
      "num of only child effect movies: 7\n",
      "proportion of only child effect movies: 0.0175\n"
     ]
    }
   ],
   "source": [
    "isDifferentForOnlyChildCount = 0\n",
    "for title in movieTitles:\n",
    "    movieAndOnlyChild = df.loc[:, [title, onlyChildCol]]\n",
    "    if isDifferent(movieAndOnlyChild, title, onlyChildCol, 1.0, 0.0):\n",
    "        isDifferentForOnlyChildCount += 1\n",
    "        \n",
    "onlyChildProportion = isDifferentForOnlyChildCount / float(totalMovies)\n",
    "\n",
    "print(f\"num of only child effect movies: {isDifferentForOnlyChildCount}\")\n",
    "print(f\"proportion of only child effect movies: {onlyChildProportion}\")"
   ]
  },
  {
   "cell_type": "code",
   "execution_count": null,
   "id": "8203cca0",
   "metadata": {},
   "outputs": [],
   "source": []
  },
  {
   "cell_type": "markdown",
   "id": "ec38c380",
   "metadata": {},
   "source": [
    "## 7\n",
    "Do people who like to watch movies socially enjoy ‘The Wolf of Wall Street (2013)’ more than those who\n",
    "prefer to watch them alone?"
   ]
  },
  {
   "cell_type": "code",
   "execution_count": 297,
   "id": "ea47b526",
   "metadata": {},
   "outputs": [
    {
     "data": {
      "text/html": [
       "<div>\n",
       "<style scoped>\n",
       "    .dataframe tbody tr th:only-of-type {\n",
       "        vertical-align: middle;\n",
       "    }\n",
       "\n",
       "    .dataframe tbody tr th {\n",
       "        vertical-align: top;\n",
       "    }\n",
       "\n",
       "    .dataframe thead th {\n",
       "        text-align: right;\n",
       "    }\n",
       "</style>\n",
       "<table border=\"1\" class=\"dataframe\">\n",
       "  <thead>\n",
       "    <tr style=\"text-align: right;\">\n",
       "      <th></th>\n",
       "      <th>The Wolf of Wall Street (2013)</th>\n",
       "      <th>Movies are best enjoyed alone (1: Yes; 0: No; -1: Did not respond)</th>\n",
       "    </tr>\n",
       "  </thead>\n",
       "  <tbody>\n",
       "    <tr>\n",
       "      <th>0</th>\n",
       "      <td>NaN</td>\n",
       "      <td>1</td>\n",
       "    </tr>\n",
       "    <tr>\n",
       "      <th>1</th>\n",
       "      <td>NaN</td>\n",
       "      <td>0</td>\n",
       "    </tr>\n",
       "    <tr>\n",
       "      <th>2</th>\n",
       "      <td>NaN</td>\n",
       "      <td>0</td>\n",
       "    </tr>\n",
       "    <tr>\n",
       "      <th>3</th>\n",
       "      <td>4.0</td>\n",
       "      <td>1</td>\n",
       "    </tr>\n",
       "    <tr>\n",
       "      <th>4</th>\n",
       "      <td>3.0</td>\n",
       "      <td>1</td>\n",
       "    </tr>\n",
       "    <tr>\n",
       "      <th>...</th>\n",
       "      <td>...</td>\n",
       "      <td>...</td>\n",
       "    </tr>\n",
       "    <tr>\n",
       "      <th>1092</th>\n",
       "      <td>NaN</td>\n",
       "      <td>0</td>\n",
       "    </tr>\n",
       "    <tr>\n",
       "      <th>1093</th>\n",
       "      <td>3.5</td>\n",
       "      <td>0</td>\n",
       "    </tr>\n",
       "    <tr>\n",
       "      <th>1094</th>\n",
       "      <td>2.0</td>\n",
       "      <td>0</td>\n",
       "    </tr>\n",
       "    <tr>\n",
       "      <th>1095</th>\n",
       "      <td>NaN</td>\n",
       "      <td>1</td>\n",
       "    </tr>\n",
       "    <tr>\n",
       "      <th>1096</th>\n",
       "      <td>4.0</td>\n",
       "      <td>1</td>\n",
       "    </tr>\n",
       "  </tbody>\n",
       "</table>\n",
       "<p>1097 rows × 2 columns</p>\n",
       "</div>"
      ],
      "text/plain": [
       "      The Wolf of Wall Street (2013)  \\\n",
       "0                                NaN   \n",
       "1                                NaN   \n",
       "2                                NaN   \n",
       "3                                4.0   \n",
       "4                                3.0   \n",
       "...                              ...   \n",
       "1092                             NaN   \n",
       "1093                             3.5   \n",
       "1094                             2.0   \n",
       "1095                             NaN   \n",
       "1096                             4.0   \n",
       "\n",
       "      Movies are best enjoyed alone (1: Yes; 0: No; -1: Did not respond)  \n",
       "0                                                     1                   \n",
       "1                                                     0                   \n",
       "2                                                     0                   \n",
       "3                                                     1                   \n",
       "4                                                     1                   \n",
       "...                                                 ...                   \n",
       "1092                                                  0                   \n",
       "1093                                                  0                   \n",
       "1094                                                  0                   \n",
       "1095                                                  1                   \n",
       "1096                                                  1                   \n",
       "\n",
       "[1097 rows x 2 columns]"
      ]
     },
     "execution_count": 297,
     "metadata": {},
     "output_type": "execute_result"
    }
   ],
   "source": [
    "wolfCol = \"The Wolf of Wall Street (2013)\"\n",
    "wolfAndSocial = df.loc[:, [wolfCol, socialCol]]\n",
    "wolfAndSocial"
   ]
  },
  {
   "cell_type": "code",
   "execution_count": 302,
   "id": "0dad0fc1",
   "metadata": {},
   "outputs": [],
   "source": [
    "# get social\n",
    "social = wolfAndSocial[wolfAndSocial[socialCol] == 0.0][wolfCol]\n",
    "alone = wolfAndSocial[wolfAndSocial[socialCol] == 1.0][wolfCol] "
   ]
  },
  {
   "cell_type": "code",
   "execution_count": 303,
   "id": "5e921e90",
   "metadata": {},
   "outputs": [
    {
     "data": {
      "text/plain": [
       "MannwhitneyuResult(statistic=49303.5, pvalue=0.9436657996253056)"
      ]
     },
     "execution_count": 303,
     "metadata": {},
     "output_type": "execute_result"
    }
   ],
   "source": [
    "# element wise elim\n",
    "social = social.dropna()\n",
    "alone = alone.dropna()\n",
    "\n",
    "stats.mannwhitneyu(social, alone, alternative=\"greater\")"
   ]
  },
  {
   "cell_type": "markdown",
   "id": "2f770bef",
   "metadata": {},
   "source": [
    "fail to reject"
   ]
  },
  {
   "cell_type": "markdown",
   "id": "23d0f9b2",
   "metadata": {},
   "source": [
    "## 8\n",
    "What proportion of movies exhibit such a “social watching” effect?"
   ]
  },
  {
   "cell_type": "code",
   "execution_count": 304,
   "id": "ecde1803",
   "metadata": {},
   "outputs": [
    {
     "name": "stdout",
     "output_type": "stream",
     "text": [
      "num of only child effect movies: 10\n",
      "proportion of only child effect movies: 0.025\n"
     ]
    }
   ],
   "source": [
    "isDifferentForSocial = 0\n",
    "for title in movieTitles:\n",
    "    movieAndSocial = df.loc[:, [title, socialCol]]\n",
    "    if isDifferent(movieAndSocial, title, socialCol, 0.0, 1.0):\n",
    "        isDifferentForSocial += 1\n",
    "        \n",
    "socialProportion = isDifferentForSocial / float(totalMovies)\n",
    "\n",
    "print(f\"num of only child effect movies: {isDifferentForSocial}\")\n",
    "print(f\"proportion of only child effect movies: {socialProportion}\")"
   ]
  },
  {
   "cell_type": "code",
   "execution_count": null,
   "id": "415e60b0",
   "metadata": {},
   "outputs": [],
   "source": []
  },
  {
   "cell_type": "code",
   "execution_count": null,
   "id": "37f80274",
   "metadata": {},
   "outputs": [],
   "source": []
  },
  {
   "cell_type": "markdown",
   "id": "ae4e3dcc",
   "metadata": {},
   "source": [
    "## 9\n",
    "Is the ratings distribution of ‘Home Alone (1990)’ different than that of ‘Finding Nemo (2003)’?"
   ]
  },
  {
   "cell_type": "code",
   "execution_count": 310,
   "id": "83515301",
   "metadata": {},
   "outputs": [],
   "source": [
    "homeAlone = df['Home Alone (1990)']\n",
    "nemo = df['Finding Nemo (2003)']"
   ]
  },
  {
   "cell_type": "code",
   "execution_count": 313,
   "id": "ec5adecb",
   "metadata": {},
   "outputs": [],
   "source": [
    "homeAlone = homeAlone.dropna()\n",
    "nemo = nemo.dropna()"
   ]
  },
  {
   "cell_type": "code",
   "execution_count": 316,
   "id": "ffc0f874",
   "metadata": {},
   "outputs": [
    {
     "data": {
      "text/plain": [
       "KstestResult(statistic=0.15269080020897632, pvalue=6.379381467525036e-10)"
      ]
     },
     "execution_count": 316,
     "metadata": {},
     "output_type": "execute_result"
    }
   ],
   "source": [
    "stats.kstest(homeAlone, nemo)"
   ]
  },
  {
   "cell_type": "markdown",
   "id": "8ab7302c",
   "metadata": {},
   "source": [
    "reject the null: is different"
   ]
  },
  {
   "cell_type": "markdown",
   "id": "05dc8fbc",
   "metadata": {},
   "source": [
    "## 10\n",
    "There are ratings on movies from several franchises ([‘Star Wars’, ‘Harry Potter’, ‘The Matrix’, ‘Indiana\n",
    "Jones’, ‘Jurassic Park’, ‘Pirates of the Caribbean’, ‘Toy Story’, ‘Batman’]) in this dataset. How many of these\n",
    "are of inconsistent quality, as experienced by viewers? [Hint: You can use the keywords in quotation marks\n",
    "featured in this question to identify the movies that are part of each franchise]"
   ]
  },
  {
   "cell_type": "code",
   "execution_count": 317,
   "id": "f169254e",
   "metadata": {},
   "outputs": [],
   "source": [
    "franchises = [\"Star Wars\", \"Harry Potter\", \"The Matrix\", \"Indiana Jones\", \"Jurassic Park\", \"Pirates of the Caribbean\", \"Toy Story\", \"Batman\"]"
   ]
  },
  {
   "cell_type": "code",
   "execution_count": 328,
   "id": "54cf3126",
   "metadata": {},
   "outputs": [],
   "source": [
    "starWars = df.loc[:,df.columns.str.contains(\"The Matrix\")].dropna()"
   ]
  },
  {
   "cell_type": "code",
   "execution_count": 329,
   "id": "de8bbe3e",
   "metadata": {},
   "outputs": [
    {
     "data": {
      "text/plain": [
       "(260, 3)"
      ]
     },
     "execution_count": 329,
     "metadata": {},
     "output_type": "execute_result"
    }
   ],
   "source": [
    "starWars.shape"
   ]
  },
  {
   "cell_type": "code",
   "execution_count": 340,
   "id": "57628c5f",
   "metadata": {},
   "outputs": [
    {
     "name": "stdout",
     "output_type": "stream",
     "text": [
      "The Matrix Revolutions (2003)\n",
      "The Matrix Reloaded (2003)\n",
      "The Matrix (1999)\n",
      "3\n"
     ]
    },
    {
     "data": {
      "text/plain": [
       "KruskalResult(statistic=40.32303905969196, pvalue=1.7537323830838066e-09)"
      ]
     },
     "execution_count": 340,
     "metadata": {},
     "output_type": "execute_result"
    }
   ],
   "source": [
    "dfArr = []\n",
    "for col in starWars.columns:\n",
    "    print(col)\n",
    "    dfArr.append(starWars[col])\n",
    "    \n",
    "dfArr[2]\n",
    "\n",
    "print(len(dfArr))\n",
    "stats.kruskal(*dfArr)"
   ]
  },
  {
   "cell_type": "code",
   "execution_count": 346,
   "id": "3fb69a50",
   "metadata": {},
   "outputs": [
    {
     "name": "stdout",
     "output_type": "stream",
     "text": [
      "Star Wars, 6.940162236984522e-40\n",
      "Harry Potter, 0.11790622831256074\n",
      "The Matrix, 1.7537323830838066e-09\n",
      "Indiana Jones, 1.020118354785894e-11\n",
      "Jurassic Park, 1.8492328391686058e-11\n",
      "Pirates of the Caribbean, 0.035792727694248905\n",
      "Toy Story, 7.902234665149812e-06\n",
      "Batman, 4.1380499020034183e-19\n",
      "6\n"
     ]
    }
   ],
   "source": [
    "countFranchise = 0\n",
    "for franchise in franchises: \n",
    "    franchiseMovies = df.loc[:,df.columns.str.contains(franchise)].dropna()\n",
    "    \n",
    "    movieArr = []\n",
    "    for movieTitle in franchiseMovies.columns:\n",
    "        movieArr.append(franchiseMovies[movieTitle])\n",
    "    \n",
    "    k, p = stats.kruskal(*movieArr)\n",
    "    if p < 0.005:\n",
    "        countFranchise += 1\n",
    "        #print(franchise)\n",
    "    \n",
    "    print(f\"{franchise}, {p}\")\n",
    "\n",
    "\n",
    "print(countFranchise) # inconsistent "
   ]
  },
  {
   "cell_type": "code",
   "execution_count": null,
   "id": "beb2d27e",
   "metadata": {},
   "outputs": [],
   "source": []
  }
 ],
 "metadata": {
  "kernelspec": {
   "display_name": "Python 3",
   "language": "python",
   "name": "python3"
  },
  "language_info": {
   "codemirror_mode": {
    "name": "ipython",
    "version": 3
   },
   "file_extension": ".py",
   "mimetype": "text/x-python",
   "name": "python",
   "nbconvert_exporter": "python",
   "pygments_lexer": "ipython3",
   "version": "3.8.8"
  }
 },
 "nbformat": 4,
 "nbformat_minor": 5
}
